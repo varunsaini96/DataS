{
 "cells": [
  {
   "cell_type": "markdown",
   "id": "3ca71a4a-614c-47b7-87e2-6efb5b5c2082",
   "metadata": {},
   "source": [
    "Q1, Create a vehicle class with an init method having instance variables as name_of_vehicle, max_speed\n",
    "and average_of_vehicle."
   ]
  },
  {
   "cell_type": "code",
   "execution_count": 27,
   "id": "3d7cab2a-9279-4b47-8fd2-0a2884dc2aa2",
   "metadata": {},
   "outputs": [],
   "source": [
    "class vehicle :\n",
    "    \n",
    "    def __init__(self, name_of_vehicle, max_speed, average_of_vehicle) :\n",
    "        self.name = name_of_vehicle\n",
    "        self.max_speed = max_speed\n",
    "        self.average = average_of_vehicle\n",
    "    \n",
    "    def vehicle_details(self) :\n",
    "        print(f\"You're having {self.name} that maximum speed is {self.max_speed}km/hrs and an average is {self.average}\")\n",
    "        "
   ]
  },
  {
   "cell_type": "code",
   "execution_count": 28,
   "id": "59d50a6d-bdd6-4bf4-9876-ff782fc96856",
   "metadata": {},
   "outputs": [],
   "source": [
    "car1 = vehicle(\"Thar\", 180, 15)"
   ]
  },
  {
   "cell_type": "code",
   "execution_count": 29,
   "id": "f93910ce-0e03-4e1f-ae3a-e1a694a2957c",
   "metadata": {},
   "outputs": [
    {
     "name": "stdout",
     "output_type": "stream",
     "text": [
      "You're having Thar that maximum speed is 180km/hrs and an average is 15\n"
     ]
    }
   ],
   "source": [
    "car1.vehicle_details()"
   ]
  },
  {
   "cell_type": "markdown",
   "id": "9cf5b3e4-b587-4560-ae71-a243bb667c79",
   "metadata": {},
   "source": [
    "Q2. Create a child class car from the vehicle class created in Que 1, which will inherit the vehicle class.\n",
    "Create a method named seating_capacity which takes capacity as an argument and returns the name of\n",
    "the vehicle and its seating capacity."
   ]
  },
  {
   "cell_type": "code",
   "execution_count": 33,
   "id": "c8155976-e15f-4aba-99a3-d107ac1ea35a",
   "metadata": {},
   "outputs": [],
   "source": [
    "class car(vehicle) :\n",
    "    \n",
    "    def __init__(self, name, max_speed, average) :\n",
    "        super().__init__(name, max_speed, average)\n",
    "        \n",
    "    def seating_capacity (self, capacity) :\n",
    "        print(f\"{self.name} having {capacity} seats\")"
   ]
  },
  {
   "cell_type": "code",
   "execution_count": 34,
   "id": "ab8faed5-1519-4549-9a80-883be63844e1",
   "metadata": {},
   "outputs": [],
   "source": [
    "car2 = car(\"Scorpio\", 200, 16)"
   ]
  },
  {
   "cell_type": "code",
   "execution_count": 36,
   "id": "bbd03a67-1f3e-4958-af6c-2c65091b7913",
   "metadata": {},
   "outputs": [
    {
     "name": "stdout",
     "output_type": "stream",
     "text": [
      "You're having Scorpio that maximum speed is 200km/hrs and an average is 16\n"
     ]
    }
   ],
   "source": [
    "car2.vehicle_details()"
   ]
  },
  {
   "cell_type": "code",
   "execution_count": 35,
   "id": "6acd966c-bfff-4d82-88a5-7c8dd86ddc00",
   "metadata": {},
   "outputs": [
    {
     "name": "stdout",
     "output_type": "stream",
     "text": [
      "Scorpio having 6 seats\n"
     ]
    }
   ],
   "source": [
    "car2.seating_capacity(6)"
   ]
  },
  {
   "cell_type": "markdown",
   "id": "d9a0d723-d1fb-47cb-a39b-7656bd20ce86",
   "metadata": {},
   "source": [
    "Q3. What is multiple inheritance? Write a python code to demonstrate multiple inheritance."
   ]
  },
  {
   "cell_type": "code",
   "execution_count": 2,
   "id": "b87d5076-2c3e-4f70-bf1f-b9334c900a99",
   "metadata": {},
   "outputs": [],
   "source": [
    "# In Multiple inharitance child class inherits more than one class. PFB the example"
   ]
  },
  {
   "cell_type": "code",
   "execution_count": 4,
   "id": "26966430-087b-47ae-9659-ea237551d3dc",
   "metadata": {},
   "outputs": [],
   "source": [
    "class test1 :\n",
    "    \n",
    "    def test1_details(self) :\n",
    "        print(\"This is the test1\")"
   ]
  },
  {
   "cell_type": "code",
   "execution_count": 5,
   "id": "28eee23b-bb3b-4e7d-a8ec-46dca6b6c1e7",
   "metadata": {},
   "outputs": [],
   "source": [
    "class test2 :\n",
    "    \n",
    "    def test2_details(self) :\n",
    "        print(\"This is the test2\")"
   ]
  },
  {
   "cell_type": "code",
   "execution_count": 7,
   "id": "b08072f3-8585-4735-b08f-7e299ff1cef9",
   "metadata": {},
   "outputs": [],
   "source": [
    "class test3(test1, test2) :\n",
    "    \n",
    "    def test3_details(self) :\n",
    "        print(\"This is the test3\")"
   ]
  },
  {
   "cell_type": "code",
   "execution_count": 8,
   "id": "27f6340b-7514-4dc1-9a58-0a1df39f86f4",
   "metadata": {},
   "outputs": [],
   "source": [
    "obj2 = test3()"
   ]
  },
  {
   "cell_type": "code",
   "execution_count": 9,
   "id": "e12d0085-25b8-4a9f-9e10-35a0b79b6611",
   "metadata": {},
   "outputs": [
    {
     "name": "stdout",
     "output_type": "stream",
     "text": [
      "This is the test1\n"
     ]
    }
   ],
   "source": [
    "obj2.test1_details()"
   ]
  },
  {
   "cell_type": "code",
   "execution_count": 10,
   "id": "c9b33324-7905-4019-b5ae-76bba4d44b5d",
   "metadata": {},
   "outputs": [
    {
     "name": "stdout",
     "output_type": "stream",
     "text": [
      "This is the test2\n"
     ]
    }
   ],
   "source": [
    "obj2.test2_details()"
   ]
  },
  {
   "cell_type": "code",
   "execution_count": 11,
   "id": "43d25bf2-dbb7-493e-9b70-42151476d2ea",
   "metadata": {},
   "outputs": [
    {
     "name": "stdout",
     "output_type": "stream",
     "text": [
      "This is the test3\n"
     ]
    }
   ],
   "source": [
    "obj2.test3_details()"
   ]
  },
  {
   "cell_type": "markdown",
   "id": "deea9801-e18f-4575-9782-23f2a5f18f81",
   "metadata": {},
   "source": [
    "Q4. What are getter and setter in python? Create a class and create a getter and a setter method in this\n",
    "class."
   ]
  },
  {
   "cell_type": "code",
   "execution_count": 12,
   "id": "ed3c6242-0f9e-4764-87ed-9e40e36a81ac",
   "metadata": {},
   "outputs": [],
   "source": [
    "# Getter--> Getter used to access the value of an object's properties and defined using @property decorator"
   ]
  },
  {
   "cell_type": "code",
   "execution_count": 13,
   "id": "5db1b242-497b-4fdf-abfe-66b2666dca74",
   "metadata": {},
   "outputs": [],
   "source": [
    "# Setter--> Setter used to do modification of private or protected information."
   ]
  },
  {
   "cell_type": "code",
   "execution_count": 37,
   "id": "45477978-cd92-4625-90e5-82f4e12f3736",
   "metadata": {},
   "outputs": [],
   "source": [
    "class pwskills :\n",
    "    \n",
    "    def __init__(self, name, number) :\n",
    "        self.name = name\n",
    "        self.__number = number\n",
    "        \n",
    "    @property\n",
    "    def phone_number(self) :\n",
    "        return self.__number\n",
    "    \n",
    "    @phone_number.setter\n",
    "    def phone_number_change(self, number) :\n",
    "        self.__number = number\n",
    "    \n",
    "    def details(self) :\n",
    "        print(f\"Name of the studend is {self.name} & contact number is {self.__number}\")"
   ]
  },
  {
   "cell_type": "code",
   "execution_count": 38,
   "id": "3780d251-55b9-4e78-8bd2-a964961d3ae4",
   "metadata": {},
   "outputs": [],
   "source": [
    "objpw = pwskills(\"Sudh\", 4748389338)"
   ]
  },
  {
   "cell_type": "code",
   "execution_count": 39,
   "id": "97af5cf0-14a8-47bc-a035-4171b71c9a7d",
   "metadata": {},
   "outputs": [
    {
     "name": "stdout",
     "output_type": "stream",
     "text": [
      "Name of the studend is Sudh & contact number is 4748389338\n"
     ]
    }
   ],
   "source": [
    "objpw.details()"
   ]
  },
  {
   "cell_type": "code",
   "execution_count": 40,
   "id": "c30c8ef6-77e2-4545-9bcf-c0da4068b7a7",
   "metadata": {},
   "outputs": [],
   "source": [
    "objpw.phone_number_change = 894398484"
   ]
  },
  {
   "cell_type": "code",
   "execution_count": 41,
   "id": "ad202456-7915-4ff6-a378-4e9cb79d4a2e",
   "metadata": {},
   "outputs": [
    {
     "name": "stdout",
     "output_type": "stream",
     "text": [
      "Name of the studend is Sudh & contact number is 894398484\n"
     ]
    }
   ],
   "source": [
    "objpw.details()"
   ]
  },
  {
   "cell_type": "markdown",
   "id": "463f645b-ed15-423f-8368-c94119ecb700",
   "metadata": {},
   "source": [
    "Q5.What is method overriding in python? Write a python code to demonstrate method overriding."
   ]
  },
  {
   "cell_type": "code",
   "execution_count": 43,
   "id": "df52f8d8-851f-405b-97bb-e978a1d6c1f6",
   "metadata": {},
   "outputs": [],
   "source": [
    "#Method overriding allows a child class to provide a specific implementation of a method that is already provided by one of its parent classes."
   ]
  },
  {
   "cell_type": "code",
   "execution_count": 44,
   "id": "e7957f2a-cb44-4b77-9e92-dfe8f17d5469",
   "metadata": {},
   "outputs": [],
   "source": [
    "class college :\n",
    "    \n",
    "    def __init__(self, college_name, location) :\n",
    "        self.college_name = college_name\n",
    "        self.location = location\n",
    "    \n",
    "    def college_details(self) :\n",
    "        print(f\"The college name is {self.college_name} and it is located in {self.location}\")"
   ]
  },
  {
   "cell_type": "code",
   "execution_count": 54,
   "id": "a62c934f-de50-4038-9532-f52d07aa3e02",
   "metadata": {},
   "outputs": [],
   "source": [
    "class student(college) :\n",
    "    \n",
    "    def __init__(self, college_name, location) :\n",
    "        super().__init__(college_name, location)\n",
    "        \n",
    "    def details_with_students(self, student) :\n",
    "        print(student, f\"is enrolled with {self.college_name} which is located in {self.location}\")"
   ]
  },
  {
   "cell_type": "code",
   "execution_count": 55,
   "id": "5dbc8a6e-0bbc-48f6-b285-0faca0c7e5c3",
   "metadata": {},
   "outputs": [],
   "source": [
    "college1 = student(\"Delhi University\", \"Delhi\")"
   ]
  },
  {
   "cell_type": "code",
   "execution_count": 56,
   "id": "96632f82-56b5-4cdb-bb29-3579946961bd",
   "metadata": {},
   "outputs": [
    {
     "name": "stdout",
     "output_type": "stream",
     "text": [
      "Sudh is enrolled with Delhi University which is located in Delhi\n"
     ]
    }
   ],
   "source": [
    "college1.details_with_students(\"Sudh\")"
   ]
  }
 ],
 "metadata": {
  "kernelspec": {
   "display_name": "Python 3 (ipykernel)",
   "language": "python",
   "name": "python3"
  },
  "language_info": {
   "codemirror_mode": {
    "name": "ipython",
    "version": 3
   },
   "file_extension": ".py",
   "mimetype": "text/x-python",
   "name": "python",
   "nbconvert_exporter": "python",
   "pygments_lexer": "ipython3",
   "version": "3.10.8"
  }
 },
 "nbformat": 4,
 "nbformat_minor": 5
}
