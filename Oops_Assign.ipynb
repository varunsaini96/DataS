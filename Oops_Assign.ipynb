{
 "cells": [
  {
   "cell_type": "markdown",
   "id": "b1c093f1-221a-420b-98c0-f728341a9995",
   "metadata": {},
   "source": [
    "Q1. Explain Class and Object with respect to Object-Oriented Programming. Give a suitable example."
   ]
  },
  {
   "cell_type": "code",
   "execution_count": 1,
   "id": "0e3e3661-2d0d-47a3-9bdc-aef9ddfa8871",
   "metadata": {},
   "outputs": [],
   "source": [
    "#Class:- Class is a real world entity or Blue print.\n",
    "#Object:- Object is a single instance of class."
   ]
  },
  {
   "cell_type": "code",
   "execution_count": 2,
   "id": "9b66cdc1-8612-4df8-90fc-82a5b1bb284c",
   "metadata": {},
   "outputs": [],
   "source": [
    "#Example of Oops:-\n",
    "class pwskills :\n",
    "    \n",
    "    def student(self, name, email_id) :\n",
    "        print(name, email_id)"
   ]
  },
  {
   "cell_type": "code",
   "execution_count": 3,
   "id": "2587b063-8df2-4189-99dd-a3ba956e2c6a",
   "metadata": {},
   "outputs": [],
   "source": [
    "pw = pwskills()"
   ]
  },
  {
   "cell_type": "code",
   "execution_count": 4,
   "id": "d6133246-655d-4c04-a256-a56ee0054a8d",
   "metadata": {},
   "outputs": [
    {
     "name": "stdout",
     "output_type": "stream",
     "text": [
      "Sudh sudh@gmail.com\n"
     ]
    }
   ],
   "source": [
    "pw.student(\"Sudh\", \"sudh@gmail.com\")"
   ]
  },
  {
   "cell_type": "markdown",
   "id": "0ca8bb56-e35f-48e7-8841-8376d8002ef5",
   "metadata": {},
   "source": [
    "Q2. Name the four pillars of OOPs."
   ]
  },
  {
   "cell_type": "markdown",
   "id": "b9553f6b-caa3-43cc-b52d-66fc16aeee83",
   "metadata": {},
   "source": [
    "1. Polymorphism\n",
    "2. Encapsulation\n",
    "3. Inheritance\n",
    "4. Abstraction"
   ]
  },
  {
   "cell_type": "markdown",
   "id": "b795702a-c2c6-4f8d-8236-224c64fe37c1",
   "metadata": {},
   "source": [
    "Q3. Explain why the __init__() function is used. Give a suitable example."
   ]
  },
  {
   "cell_type": "code",
   "execution_count": 9,
   "id": "644be9c5-cd0b-4a45-99b1-2a70e860bfbf",
   "metadata": {},
   "outputs": [],
   "source": [
    "#It is a constructor which helps class to take data or to intialize the object's state"
   ]
  },
  {
   "cell_type": "code",
   "execution_count": 10,
   "id": "62dbb05c-a30d-42f6-ba4b-f77fb865d4a0",
   "metadata": {},
   "outputs": [],
   "source": [
    "#Example:-\n",
    "class pwskills1 :\n",
    "    \n",
    "    def __init__(self, name, number) :\n",
    "        self.name = name\n",
    "        self.number = number\n",
    "    \n",
    "    def details(self) :\n",
    "        print(f\"The student name is {self.name} and mobile number is {self.number}\")"
   ]
  },
  {
   "cell_type": "code",
   "execution_count": 11,
   "id": "05dabbf0-b1b3-49f5-8a79-321a95c54e78",
   "metadata": {},
   "outputs": [],
   "source": [
    "pw1 = pwskills1(\"Krish\",938383838)"
   ]
  },
  {
   "cell_type": "code",
   "execution_count": 12,
   "id": "1d33e50a-905f-451d-b53b-7173b0393244",
   "metadata": {},
   "outputs": [
    {
     "name": "stdout",
     "output_type": "stream",
     "text": [
      "The student name is Krish and mobile number is 938383838\n"
     ]
    }
   ],
   "source": [
    "pw1.details()"
   ]
  },
  {
   "cell_type": "markdown",
   "id": "a3a7fb66-1393-4913-93c8-3713df21796f",
   "metadata": {},
   "source": [
    "Q4. Why self is used in OOPs?"
   ]
  },
  {
   "cell_type": "code",
   "execution_count": 13,
   "id": "c8a9ba38-d4fd-4147-aeef-19615140f152",
   "metadata": {},
   "outputs": [],
   "source": [
    "#Self is used to access the attributes and methods of the class in python"
   ]
  },
  {
   "cell_type": "markdown",
   "id": "cab3d40f-f1ec-4b91-b237-c7414056c1e3",
   "metadata": {},
   "source": [
    "Q5. What is inheritance? Give an example for each type of inheritance."
   ]
  },
  {
   "cell_type": "code",
   "execution_count": 14,
   "id": "b30d0e1f-eed1-4dde-a8be-e684d3da76c8",
   "metadata": {},
   "outputs": [],
   "source": [
    "#Inheritance:- Inheritance the property of upper or parent class to lower or child class"
   ]
  },
  {
   "cell_type": "code",
   "execution_count": 30,
   "id": "c2faac6b-480a-43ae-94ad-d7196e9d2bd7",
   "metadata": {},
   "outputs": [],
   "source": [
    "# Exmaple of Multilable inheritance:-\n",
    "class test1 :\n",
    "    def detail_test1() :\n",
    "        print(\"This is the test1\")"
   ]
  },
  {
   "cell_type": "code",
   "execution_count": 31,
   "id": "ba69044c-170d-4e06-b665-b054da345c7b",
   "metadata": {},
   "outputs": [],
   "source": [
    "class test2(test1) :\n",
    "    def detail_test2() :\n",
    "        print(\"This is the test2\")"
   ]
  },
  {
   "cell_type": "code",
   "execution_count": 32,
   "id": "42206505-1261-4c91-adf2-5d5932410316",
   "metadata": {},
   "outputs": [],
   "source": [
    "class test3(test2) :\n",
    "    def detail_test3() :\n",
    "        print(\"This is the test3\")"
   ]
  },
  {
   "cell_type": "code",
   "execution_count": 33,
   "id": "34c15340-f5dc-4b9f-b497-220bda563241",
   "metadata": {},
   "outputs": [],
   "source": [
    "obj1 = test3"
   ]
  },
  {
   "cell_type": "code",
   "execution_count": 34,
   "id": "d84a4c8b-26a9-4bfc-bd4e-620cbc552b14",
   "metadata": {},
   "outputs": [
    {
     "name": "stdout",
     "output_type": "stream",
     "text": [
      "This is the test1\n"
     ]
    }
   ],
   "source": [
    "obj1.detail_test1()"
   ]
  },
  {
   "cell_type": "code",
   "execution_count": 36,
   "id": "6a1bb098-7290-4cb8-90b3-2b91eb10fa39",
   "metadata": {},
   "outputs": [
    {
     "name": "stdout",
     "output_type": "stream",
     "text": [
      "This is the test2\n"
     ]
    }
   ],
   "source": [
    "obj1.detail_test2()"
   ]
  },
  {
   "cell_type": "code",
   "execution_count": 37,
   "id": "7c4ddf74-aa95-42c9-a077-e491306cc12d",
   "metadata": {},
   "outputs": [],
   "source": [
    "#Example of Multiple inheritance:-\n",
    "class pw1 :\n",
    "    def detail_pw1() :\n",
    "        print(\"This is the detail of pw1\")"
   ]
  },
  {
   "cell_type": "code",
   "execution_count": 38,
   "id": "b7cbaf3e-bb97-4ca3-98fe-964adf98d524",
   "metadata": {},
   "outputs": [],
   "source": [
    "class pw2 :\n",
    "    def detail_pw2() :\n",
    "        print(\"This is the detail of pw2\")"
   ]
  },
  {
   "cell_type": "code",
   "execution_count": 39,
   "id": "56acd07e-3d77-4b9d-90d0-ff5c960b7309",
   "metadata": {},
   "outputs": [],
   "source": [
    "class pw3(pw1, pw2) :\n",
    "    def detail_pw3() :\n",
    "        print(\"This is the detail of pw3\")"
   ]
  },
  {
   "cell_type": "code",
   "execution_count": 42,
   "id": "8123ca02-d5d8-4730-95b2-e234f589495e",
   "metadata": {},
   "outputs": [],
   "source": [
    "obj2 = pw3"
   ]
  },
  {
   "cell_type": "code",
   "execution_count": 43,
   "id": "659e9609-68f4-401a-bdb6-5416dc7ac4df",
   "metadata": {},
   "outputs": [
    {
     "name": "stdout",
     "output_type": "stream",
     "text": [
      "This is the detail of pw1\n"
     ]
    }
   ],
   "source": [
    "obj2.detail_pw1()"
   ]
  },
  {
   "cell_type": "code",
   "execution_count": 44,
   "id": "007a78a4-00c3-4e86-903e-47c916902492",
   "metadata": {},
   "outputs": [
    {
     "name": "stdout",
     "output_type": "stream",
     "text": [
      "This is the detail of pw2\n"
     ]
    }
   ],
   "source": [
    "obj2.detail_pw2()"
   ]
  },
  {
   "cell_type": "code",
   "execution_count": 45,
   "id": "864b912c-4dff-42ac-b31c-8bc4c178dbb9",
   "metadata": {},
   "outputs": [
    {
     "name": "stdout",
     "output_type": "stream",
     "text": [
      "This is the detail of pw3\n"
     ]
    }
   ],
   "source": [
    "obj2.detail_pw3()"
   ]
  }
 ],
 "metadata": {
  "kernelspec": {
   "display_name": "Python 3 (ipykernel)",
   "language": "python",
   "name": "python3"
  },
  "language_info": {
   "codemirror_mode": {
    "name": "ipython",
    "version": 3
   },
   "file_extension": ".py",
   "mimetype": "text/x-python",
   "name": "python",
   "nbconvert_exporter": "python",
   "pygments_lexer": "ipython3",
   "version": "3.10.8"
  }
 },
 "nbformat": 4,
 "nbformat_minor": 5
}
