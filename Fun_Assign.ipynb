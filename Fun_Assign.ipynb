{
 "cells": [
  {
   "cell_type": "code",
   "execution_count": 1,
   "id": "950be127-816b-41fb-8f5a-305cb07264f4",
   "metadata": {},
   "outputs": [],
   "source": [
    "# Q1. Which keyword is used to create a function? Create a function to return a list of odd numbers in the range of 1 to 25."
   ]
  },
  {
   "cell_type": "code",
   "execution_count": 4,
   "id": "334cc799-f33c-42ff-9bda-41b48504e2dc",
   "metadata": {},
   "outputs": [],
   "source": [
    "#Keyword \"Def\" is used to create a function\n",
    "def odd_num(a,n):\n",
    "    lst = []\n",
    "    for i in range(a,n):\n",
    "        if i%2!=0:\n",
    "            lst.append(i)\n",
    "    return lst"
   ]
  },
  {
   "cell_type": "code",
   "execution_count": 6,
   "id": "488eec5a-48db-425f-b1e9-0490265eea39",
   "metadata": {},
   "outputs": [
    {
     "data": {
      "text/plain": [
       "[1, 3, 5, 7, 9, 11, 13, 15, 17, 19, 21, 23]"
      ]
     },
     "execution_count": 6,
     "metadata": {},
     "output_type": "execute_result"
    }
   ],
   "source": [
    "odd_num(1,25)"
   ]
  },
  {
   "cell_type": "code",
   "execution_count": 7,
   "id": "1e81129b-e0ef-43fe-99f2-5d86c39a8eb2",
   "metadata": {},
   "outputs": [],
   "source": [
    "# Q2. Why *args and **kwargs is used in some functions? Create a function each for *args and **kwargs to demonstrate their use."
   ]
  },
  {
   "cell_type": "code",
   "execution_count": 9,
   "id": "680dfd50-9884-4ab6-89b6-eec5c67cb12e",
   "metadata": {},
   "outputs": [],
   "source": [
    "# *args is nothing but an argument, it is used to take any kind of argumments which gives the result in the form of tuple\n",
    "#**Kwargs is nothing but a key value argument which is used to give the result into key & value pair"
   ]
  },
  {
   "cell_type": "code",
   "execution_count": 11,
   "id": "3e2251ec-e24d-4f93-92c6-59ee4e326793",
   "metadata": {},
   "outputs": [],
   "source": [
    "def test1(*args):\n",
    "    return args"
   ]
  },
  {
   "cell_type": "code",
   "execution_count": 12,
   "id": "b4a5d8c0-ff5f-450a-b3cc-241c8b831d21",
   "metadata": {},
   "outputs": [
    {
     "data": {
      "text/plain": [
       "(2, 3, 4, 5, 6, 7)"
      ]
     },
     "execution_count": 12,
     "metadata": {},
     "output_type": "execute_result"
    }
   ],
   "source": [
    "test1(2,3,4,5,6,7)"
   ]
  },
  {
   "cell_type": "code",
   "execution_count": 13,
   "id": "e5943221-af45-4ca5-a5ac-114cce964550",
   "metadata": {},
   "outputs": [],
   "source": [
    "def test2(**kwargs):\n",
    "    return kwargs"
   ]
  },
  {
   "cell_type": "code",
   "execution_count": 14,
   "id": "ed5bd5f5-857d-4a25-91af-c258a1f4dc1c",
   "metadata": {},
   "outputs": [
    {
     "data": {
      "text/plain": [
       "{'a': 'Varun', 'b': 'PW skills'}"
      ]
     },
     "execution_count": 14,
     "metadata": {},
     "output_type": "execute_result"
    }
   ],
   "source": [
    "test2(a='Varun',b = \"PW skills\")"
   ]
  },
  {
   "cell_type": "markdown",
   "id": "488971af-4f49-4c7a-800c-2e58df6c25ad",
   "metadata": {},
   "source": [
    "'''Q3. What is an iterator in python? Name the method used to initialise the iterator object and the method\n",
    "used for iteration. Use these methods to print the first five elements of the given list [2, 4, 6, 8, 10, 12, 14, 16,\n",
    "18, 20].'''"
   ]
  },
  {
   "cell_type": "code",
   "execution_count": 21,
   "id": "01e74b42-d4f9-4df5-9c7b-4c6e16353c96",
   "metadata": {},
   "outputs": [
    {
     "data": {
      "text/plain": [
       "'An iterator is an object that allows you to iterate over collections of data, such as lists, tuples, dictionaries, and sets. \\nIt works like a loop and access each value given in the form of list, tuple, dict and set.'"
      ]
     },
     "execution_count": 21,
     "metadata": {},
     "output_type": "execute_result"
    }
   ],
   "source": [
    "'''An iterator is an object that allows you to iterate over collections of data, such as lists, tuples, dictionaries, and sets. \n",
    "It works like a loop and access each value given in the form of list, tuple, dict and set.'''"
   ]
  },
  {
   "cell_type": "code",
   "execution_count": 22,
   "id": "ffe93b71-93cb-4b70-84f6-4a68d3e545dc",
   "metadata": {},
   "outputs": [],
   "source": [
    "# We can use map, reduce and filter for iteration"
   ]
  },
  {
   "cell_type": "code",
   "execution_count": 23,
   "id": "e01aeb07-55b2-411b-867e-91170adf529c",
   "metadata": {},
   "outputs": [],
   "source": [
    "a = [2, 4, 6, 8, 10, 12, 14, 16, 18, 20]"
   ]
  },
  {
   "cell_type": "code",
   "execution_count": 31,
   "id": "e6762a10-ac97-45a5-bc97-c3ff6d975b9b",
   "metadata": {},
   "outputs": [
    {
     "data": {
      "text/plain": [
       "[2, 4, 6, 8, 10]"
      ]
     },
     "execution_count": 31,
     "metadata": {},
     "output_type": "execute_result"
    }
   ],
   "source": [
    "#Printing first five element of the list\n",
    "list(filter(lambda x : x<=a[4],a))"
   ]
  },
  {
   "cell_type": "markdown",
   "id": "7305a0e0-1a25-4680-a6dd-0abc54eb3250",
   "metadata": {},
   "source": [
    "Q4. What is a generator function in python? Why yield keyword is used? Give an example of a generator function."
   ]
  },
  {
   "cell_type": "code",
   "execution_count": 35,
   "id": "20c9e0ab-4b50-4c3f-b720-db708932a614",
   "metadata": {},
   "outputs": [],
   "source": [
    "#Generator function is the function which generates the new value rather than to store."
   ]
  },
  {
   "cell_type": "code",
   "execution_count": 36,
   "id": "bce18fba-9a93-460e-840d-c1cfb99c53f7",
   "metadata": {},
   "outputs": [],
   "source": [
    "#Keyword \"yield\" is used to create a generator function in order to give the value"
   ]
  },
  {
   "cell_type": "code",
   "execution_count": 38,
   "id": "b7d37a28-c5f2-4d38-9f6f-28f8cd6b3745",
   "metadata": {},
   "outputs": [],
   "source": [
    "# making fibonnacci series with the help of generator\n",
    "def fib(n):\n",
    "    a,b = 0,1\n",
    "    for i in range(n):\n",
    "        yield a\n",
    "        a,b = b, a+b"
   ]
  },
  {
   "cell_type": "code",
   "execution_count": 40,
   "id": "c1421c05-e49d-4a37-8f3a-617f96feca26",
   "metadata": {},
   "outputs": [
    {
     "name": "stdout",
     "output_type": "stream",
     "text": [
      "0,1,1,2,3,5,8,13,21,34,"
     ]
    }
   ],
   "source": [
    "for i in fib(10):\n",
    "    print(i, end = \",\")"
   ]
  },
  {
   "cell_type": "code",
   "execution_count": 41,
   "id": "644942ad-4d7a-455b-8ae2-f3ca096ba30f",
   "metadata": {},
   "outputs": [],
   "source": [
    "# Q5. Create a generator function for prime numbers less than 1000. Use the next() method to print the first 20 prime numbers."
   ]
  },
  {
   "cell_type": "code",
   "execution_count": 2,
   "id": "dd84c75b-5d6f-46a1-b25d-4397103179e1",
   "metadata": {},
   "outputs": [],
   "source": [
    "def get_prime(n):\n",
    "    for i in range(2, n):\n",
    "        for x in range(2, i):\n",
    "            if i % x == 0:\n",
    "                break\n",
    "        else:\n",
    "            yield i"
   ]
  },
  {
   "cell_type": "code",
   "execution_count": 4,
   "id": "ad1233a6-8e97-40b3-99ef-b11e11f97590",
   "metadata": {},
   "outputs": [
    {
     "name": "stdout",
     "output_type": "stream",
     "text": [
      "2,3,5,7,11,13,17,19,23,29,31,37,41,43,47,53,59,61,67,71,73,79,83,89,97,101,103,107,109,113,127,131,137,139,149,151,157,163,167,173,179,181,191,193,197,199,211,223,227,229,233,239,241,251,257,263,269,271,277,281,283,293,307,311,313,317,331,337,347,349,353,359,367,373,379,383,389,397,401,409,419,421,431,433,439,443,449,457,461,463,467,479,487,491,499,503,509,521,523,541,547,557,563,569,571,577,587,593,599,601,607,613,617,619,631,641,643,647,653,659,661,673,677,683,691,701,709,719,727,733,739,743,751,757,761,769,773,787,797,809,811,821,823,827,829,839,853,857,859,863,877,881,883,887,907,911,919,929,937,941,947,953,967,971,977,983,991,997,"
     ]
    }
   ],
   "source": [
    "for i in get_prime(1000):\n",
    "    print(i, end = \",\")"
   ]
  },
  {
   "cell_type": "code",
   "execution_count": 51,
   "id": "86abb9fe-6f44-41c9-9e30-2624bbe81108",
   "metadata": {},
   "outputs": [
    {
     "name": "stdout",
     "output_type": "stream",
     "text": [
      "[2, 3, 5, 7, 11, 13, 17, 19, 23, 29, 31, 37, 41, 43, 47, 53, 59, 61, 67, 71, 73, 79, 83, 89, 97]\n"
     ]
    }
   ],
   "source": [
    "list = []\n",
    "for i in get_prime(100):\n",
    "    list.append(i)\n",
    "print(list)"
   ]
  },
  {
   "cell_type": "code",
   "execution_count": 57,
   "id": "f39e5858-459b-45b3-b503-b436e3789d25",
   "metadata": {},
   "outputs": [
    {
     "name": "stdout",
     "output_type": "stream",
     "text": [
      "2\n",
      "3\n",
      "5\n",
      "7\n",
      "11\n",
      "13\n",
      "17\n",
      "19\n",
      "23\n",
      "29\n",
      "31\n",
      "37\n",
      "41\n",
      "43\n",
      "47\n",
      "53\n",
      "59\n",
      "61\n",
      "67\n",
      "71\n"
     ]
    }
   ],
   "source": [
    "my_list = list\n",
    "\n",
    "my_iterator = iter(my_list)\n",
    "\n",
    "for x in range(20):\n",
    "    num = next(my_iterator)\n",
    "    print(num, end = \",\")"
   ]
  }
 ],
 "metadata": {
  "kernelspec": {
   "display_name": "Python 3 (ipykernel)",
   "language": "python",
   "name": "python3"
  },
  "language_info": {
   "codemirror_mode": {
    "name": "ipython",
    "version": 3
   },
   "file_extension": ".py",
   "mimetype": "text/x-python",
   "name": "python",
   "nbconvert_exporter": "python",
   "pygments_lexer": "ipython3",
   "version": "3.10.8"
  }
 },
 "nbformat": 4,
 "nbformat_minor": 5
}
