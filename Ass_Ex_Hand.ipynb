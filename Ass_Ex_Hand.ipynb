{
 "cells": [
  {
   "cell_type": "markdown",
   "id": "cde384a8-7978-4474-9d8a-61401b7b6b9c",
   "metadata": {},
   "source": [
    "# Q1. What is the Exception in python? Write the difference between Exceptions and Syntax Errors."
   ]
  },
  {
   "cell_type": "markdown",
   "id": "4ed24381-6ebf-4c24-85ff-2ded9bde52ef",
   "metadata": {},
   "source": [
    "Ans. An exception is an event, which occurs during the execution of a program that disrupts the normal flow of the program's instructions"
   ]
  },
  {
   "cell_type": "markdown",
   "id": "1701fc98-a969-4a2c-8c86-5429841dedcc",
   "metadata": {},
   "source": [
    "Errors are the problems in a program due to which the program will stop the execution. On the other hand, exceptions are raised when some internal events occur which changes the normal flow of the program."
   ]
  },
  {
   "cell_type": "markdown",
   "id": "a6b901a8-14bc-42e5-b38f-8c6e14de8e91",
   "metadata": {},
   "source": [
    "# Q2. What happens when an execution is not handled? Explain with an example."
   ]
  },
  {
   "cell_type": "markdown",
   "id": "74f96fed-d51a-4262-8ccb-b61147a50e05",
   "metadata": {},
   "source": [
    "Ans. The program terminates abruptly and the code past the line that caused the exception will not get executed."
   ]
  },
  {
   "cell_type": "code",
   "execution_count": 7,
   "id": "f48f2b5b-87d3-4373-bfd1-4694379ea117",
   "metadata": {},
   "outputs": [
    {
     "ename": "FileNotFoundError",
     "evalue": "[Errno 2] No such file or directory: 'test100.txt'",
     "output_type": "error",
     "traceback": [
      "\u001b[0;31m---------------------------------------------------------------------------\u001b[0m",
      "\u001b[0;31mFileNotFoundError\u001b[0m                         Traceback (most recent call last)",
      "Cell \u001b[0;32mIn[7], line 3\u001b[0m\n\u001b[1;32m      1\u001b[0m \u001b[38;5;66;03m# Code without exception handling\u001b[39;00m\n\u001b[0;32m----> 3\u001b[0m \u001b[38;5;28;01mwith\u001b[39;00m \u001b[38;5;28;43mopen\u001b[39;49m\u001b[43m \u001b[49m\u001b[43m(\u001b[49m\u001b[38;5;124;43m\"\u001b[39;49m\u001b[38;5;124;43mtest100.txt\u001b[39;49m\u001b[38;5;124;43m\"\u001b[39;49m\u001b[43m,\u001b[49m\u001b[43m \u001b[49m\u001b[38;5;124;43m'\u001b[39;49m\u001b[38;5;124;43mr\u001b[39;49m\u001b[38;5;124;43m'\u001b[39;49m\u001b[43m)\u001b[49m \u001b[38;5;28;01mas\u001b[39;00m f :\n\u001b[1;32m      4\u001b[0m     f\u001b[38;5;241m.\u001b[39mread()\n",
      "File \u001b[0;32m/opt/conda/lib/python3.10/site-packages/IPython/core/interactiveshell.py:282\u001b[0m, in \u001b[0;36m_modified_open\u001b[0;34m(file, *args, **kwargs)\u001b[0m\n\u001b[1;32m    275\u001b[0m \u001b[38;5;28;01mif\u001b[39;00m file \u001b[38;5;129;01min\u001b[39;00m {\u001b[38;5;241m0\u001b[39m, \u001b[38;5;241m1\u001b[39m, \u001b[38;5;241m2\u001b[39m}:\n\u001b[1;32m    276\u001b[0m     \u001b[38;5;28;01mraise\u001b[39;00m \u001b[38;5;167;01mValueError\u001b[39;00m(\n\u001b[1;32m    277\u001b[0m         \u001b[38;5;124mf\u001b[39m\u001b[38;5;124m\"\u001b[39m\u001b[38;5;124mIPython won\u001b[39m\u001b[38;5;124m'\u001b[39m\u001b[38;5;124mt let you open fd=\u001b[39m\u001b[38;5;132;01m{\u001b[39;00mfile\u001b[38;5;132;01m}\u001b[39;00m\u001b[38;5;124m by default \u001b[39m\u001b[38;5;124m\"\u001b[39m\n\u001b[1;32m    278\u001b[0m         \u001b[38;5;124m\"\u001b[39m\u001b[38;5;124mas it is likely to crash IPython. If you know what you are doing, \u001b[39m\u001b[38;5;124m\"\u001b[39m\n\u001b[1;32m    279\u001b[0m         \u001b[38;5;124m\"\u001b[39m\u001b[38;5;124myou can use builtins\u001b[39m\u001b[38;5;124m'\u001b[39m\u001b[38;5;124m open.\u001b[39m\u001b[38;5;124m\"\u001b[39m\n\u001b[1;32m    280\u001b[0m     )\n\u001b[0;32m--> 282\u001b[0m \u001b[38;5;28;01mreturn\u001b[39;00m \u001b[43mio_open\u001b[49m\u001b[43m(\u001b[49m\u001b[43mfile\u001b[49m\u001b[43m,\u001b[49m\u001b[43m \u001b[49m\u001b[38;5;241;43m*\u001b[39;49m\u001b[43margs\u001b[49m\u001b[43m,\u001b[49m\u001b[43m \u001b[49m\u001b[38;5;241;43m*\u001b[39;49m\u001b[38;5;241;43m*\u001b[39;49m\u001b[43mkwargs\u001b[49m\u001b[43m)\u001b[49m\n",
      "\u001b[0;31mFileNotFoundError\u001b[0m: [Errno 2] No such file or directory: 'test100.txt'"
     ]
    }
   ],
   "source": [
    "# Code without exception handling\n",
    "\n",
    "with open (\"test100.txt\", 'r') as f :\n",
    "    f.read()"
   ]
  },
  {
   "cell_type": "code",
   "execution_count": 9,
   "id": "d0bea8a9-c5b6-4f8d-b35b-92d8e2b4bd46",
   "metadata": {},
   "outputs": [
    {
     "name": "stdout",
     "output_type": "stream",
     "text": [
      "This code has problem : [Errno 2] No such file or directory: 'test100.txt'\n"
     ]
    }
   ],
   "source": [
    "# Code with exception handling\n",
    "\n",
    "try :\n",
    "    with open (\"test100.txt\", 'r') as f :\n",
    "        f.read()\n",
    "except Exception as e :\n",
    "    print(\"This code has problem :\",e)\n",
    "    "
   ]
  },
  {
   "cell_type": "markdown",
   "id": "ee25b40c-23c8-4775-8a08-e8ee3df06ab8",
   "metadata": {},
   "source": [
    "# Q3. Which Python statements are used to catch and handle exceptions? Explain with an example."
   ]
  },
  {
   "cell_type": "markdown",
   "id": "0d14e7a2-58b5-48fe-9fb0-7c839ad2b02e",
   "metadata": {},
   "source": [
    "Try and Except black is used to catch and handle exceptions"
   ]
  },
  {
   "cell_type": "code",
   "execution_count": 14,
   "id": "0f29818c-bce3-405d-87fb-04866d13764b",
   "metadata": {},
   "outputs": [
    {
     "name": "stdout",
     "output_type": "stream",
     "text": [
      "This is a problem in loop:  descriptor 'append' for 'list' objects doesn't apply to a 'int' object\n"
     ]
    }
   ],
   "source": [
    "# Example:-\n",
    "\n",
    "lst = [1,2,3,4, \"python\", \"Strings\"]\n",
    "\n",
    "try :\n",
    "    for i in lst :\n",
    "        if type(i) == int:\n",
    "            list.append(i)\n",
    "except Exception as e :\n",
    "    print(\"This is a problem in loop: \",e)"
   ]
  },
  {
   "cell_type": "markdown",
   "id": "72d33e5e-09a9-4fac-a525-111fddf7d991",
   "metadata": {},
   "source": [
    "# Q4. Explain with an example :\n",
    "#     a. try and else\n",
    "#     b. finally\n",
    "#     c. raise"
   ]
  },
  {
   "cell_type": "code",
   "execution_count": 15,
   "id": "f55d061d-9634-4319-b40d-bccd2bdef871",
   "metadata": {},
   "outputs": [
    {
     "name": "stdout",
     "output_type": "stream",
     "text": [
      "String\n",
      "Python\n",
      "The code runs successfully\n"
     ]
    }
   ],
   "source": [
    "# A. Try and else\n",
    "\n",
    "lst = [1,2,3,4,5, \"String\", \"Python\"]\n",
    "\n",
    "try :\n",
    "    for i in lst :\n",
    "        if type(i)!=int:\n",
    "            print(i)\n",
    "except Exception as e:\n",
    "    print(e)\n",
    "    \n",
    "else :\n",
    "    print(\"The code runs successfully\")\n"
   ]
  },
  {
   "cell_type": "code",
   "execution_count": 17,
   "id": "9a14e973-ee95-4a5c-9edd-423863baecfa",
   "metadata": {},
   "outputs": [
    {
     "name": "stdout",
     "output_type": "stream",
     "text": [
      "[Errno 2] No such file or directory: 'test100.txt'\n",
      "It always runs\n"
     ]
    }
   ],
   "source": [
    "# B. Finally\n",
    "\n",
    "try :\n",
    "    with open (\"test100.txt\", 'r') as f :\n",
    "        f.read()\n",
    "\n",
    "except Exception as e :\n",
    "    print(e)\n",
    "\n",
    "finally:\n",
    "    print(\"It always runs\")\n"
   ]
  },
  {
   "cell_type": "code",
   "execution_count": 20,
   "id": "86a48470-b077-43f6-9a17-5df3602372f5",
   "metadata": {},
   "outputs": [
    {
     "name": "stdin",
     "output_type": "stream",
     "text": [
      "Enter the number:  -1\n"
     ]
    },
    {
     "name": "stdout",
     "output_type": "stream",
     "text": [
      "n can't be negative number\n"
     ]
    }
   ],
   "source": [
    "# C. Raise\n",
    "\n",
    "class validation(Exception) :\n",
    "    def __init__(self, msg):\n",
    "        self.msg = msg\n",
    "        \n",
    "def check(n):\n",
    "    if n<0 :\n",
    "        raise validation(\"n can't be negative number\")\n",
    "    elif n==0 :\n",
    "        raise validation(\"n can't be zero\")\n",
    "    else :\n",
    "        print(n)\n",
    "        \n",
    "try :\n",
    "    n = int(input(\"Enter the number: \"))\n",
    "    check(n)\n",
    "\n",
    "except validation as v:\n",
    "    print(v)"
   ]
  },
  {
   "cell_type": "markdown",
   "id": "ccce1e39-32f3-431e-8d18-8e442ebd7314",
   "metadata": {},
   "source": [
    "# Q5. What are Custom Exception in python? Why do we need Custom Exception? Explain with an example."
   ]
  },
  {
   "cell_type": "markdown",
   "id": "0991ade8-1a57-42e2-a7b5-64809fa51ce8",
   "metadata": {},
   "source": [
    "Custom Exception:- Custom Exception is user defined exception with the help of creating a new class that is derived from the built-in Exception Class"
   ]
  },
  {
   "cell_type": "markdown",
   "id": "ff764e22-21b7-4a72-a0d6-ce8408d66aae",
   "metadata": {},
   "source": [
    "We need custom exception to define problems with adding more information about the related problems"
   ]
  },
  {
   "cell_type": "code",
   "execution_count": 22,
   "id": "5e9bd432-2e81-41a1-830d-c5a65f2a194e",
   "metadata": {},
   "outputs": [
    {
     "name": "stdin",
     "output_type": "stream",
     "text": [
      "Enter your age:  -10\n"
     ]
    },
    {
     "name": "stdout",
     "output_type": "stream",
     "text": [
      "Please enter the correct age\n"
     ]
    }
   ],
   "source": [
    "class voter_ID_check(Exception) :\n",
    "    \n",
    "    def __init__(self, msg) :\n",
    "        self.msg = msg\n",
    "        \n",
    "def validate_age(age) :\n",
    "    if age > 18 :\n",
    "        raise voter_ID_check(\"You are not eligible to vote\")\n",
    "    \n",
    "    elif age <= 0 :\n",
    "        raise voter_ID_check(\"Please enter the correct age\")\n",
    "    \n",
    "    else :\n",
    "        print(\"Yes! You are eligible to vote\")\n",
    "\n",
    "try :\n",
    "    age = int(input(\"Enter your age: \"))\n",
    "    validate_age(age)\n",
    "\n",
    "except voter_ID_check as checking:\n",
    "    print(checking)"
   ]
  },
  {
   "cell_type": "markdown",
   "id": "d040c244-39f3-4855-b2e3-57dd4f8847ae",
   "metadata": {},
   "source": [
    "# Q6. Create a Custom Exception class. Use this class to handle an exception."
   ]
  },
  {
   "cell_type": "code",
   "execution_count": 23,
   "id": "641bdaed-1980-4852-8d0d-4e8227bdd322",
   "metadata": {},
   "outputs": [
    {
     "name": "stdin",
     "output_type": "stream",
     "text": [
      "Enter the value:  python\n"
     ]
    },
    {
     "name": "stdout",
     "output_type": "stream",
     "text": [
      "You are entering the str please enter the number\n"
     ]
    }
   ],
   "source": [
    "class check_int(Exception) :\n",
    "    \n",
    "    def __init__(self, msg) :\n",
    "        self.msg = msg\n",
    "        \n",
    "def validate_integer(n) :\n",
    "    if type(n) == str :\n",
    "        print(\"You are entering the str please enter the number\")\n",
    "    \n",
    "    elif type(n) == bool :\n",
    "        print(\"You are entering True or False please enter the number\")\n",
    "    \n",
    "    else :\n",
    "        print(n)\n",
    "        \n",
    "try :\n",
    "    n = input(\"Enter the value: \")\n",
    "    validate_integer(n)\n",
    "    \n",
    "except check_int as c :\n",
    "    print(c)"
   ]
  }
 ],
 "metadata": {
  "kernelspec": {
   "display_name": "Python 3 (ipykernel)",
   "language": "python",
   "name": "python3"
  },
  "language_info": {
   "codemirror_mode": {
    "name": "ipython",
    "version": 3
   },
   "file_extension": ".py",
   "mimetype": "text/x-python",
   "name": "python",
   "nbconvert_exporter": "python",
   "pygments_lexer": "ipython3",
   "version": "3.10.8"
  }
 },
 "nbformat": 4,
 "nbformat_minor": 5
}
