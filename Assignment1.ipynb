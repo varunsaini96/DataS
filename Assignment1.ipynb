{
 "cells": [
  {
   "cell_type": "code",
   "execution_count": 1,
   "id": "234b0754-4e7a-447e-9893-187a7ef01a45",
   "metadata": {},
   "outputs": [],
   "source": [
    "# Creating one varialbe containing string, list, float, tuple"
   ]
  },
  {
   "cell_type": "code",
   "execution_count": 3,
   "id": "ec5e5e34-6857-418e-a0a1-399b1bfae9cb",
   "metadata": {},
   "outputs": [],
   "source": [
    "string = \"Thank you PW Skill for providing such a great course\"\n",
    "list = [23,42,55.6,\"PW Skill\",True]\n",
    "float = 23.5\n",
    "tuple = (23,10,60)"
   ]
  },
  {
   "cell_type": "code",
   "execution_count": 4,
   "id": "22437612-9b73-410e-874d-58fe754d6f6d",
   "metadata": {},
   "outputs": [
    {
     "data": {
      "text/plain": [
       "'Thank you PW Skill for providing such a great course'"
      ]
     },
     "execution_count": 4,
     "metadata": {},
     "output_type": "execute_result"
    }
   ],
   "source": [
    "string"
   ]
  },
  {
   "cell_type": "code",
   "execution_count": 5,
   "id": "3df1fa49-1be4-4334-bb4e-ec40411e03bb",
   "metadata": {},
   "outputs": [
    {
     "data": {
      "text/plain": [
       "[23, 42, 55.6, 'PW Skill', True]"
      ]
     },
     "execution_count": 5,
     "metadata": {},
     "output_type": "execute_result"
    }
   ],
   "source": [
    "list"
   ]
  },
  {
   "cell_type": "code",
   "execution_count": 6,
   "id": "aff9261c-39a8-4b72-b629-6213c158838f",
   "metadata": {},
   "outputs": [
    {
     "data": {
      "text/plain": [
       "23.5"
      ]
     },
     "execution_count": 6,
     "metadata": {},
     "output_type": "execute_result"
    }
   ],
   "source": [
    "float"
   ]
  },
  {
   "cell_type": "code",
   "execution_count": 7,
   "id": "f388d912-0dc0-479f-903b-300c76bc385b",
   "metadata": {},
   "outputs": [
    {
     "data": {
      "text/plain": [
       "(23, 10, 60)"
      ]
     },
     "execution_count": 7,
     "metadata": {},
     "output_type": "execute_result"
    }
   ],
   "source": [
    "tuple"
   ]
  },
  {
   "cell_type": "code",
   "execution_count": 8,
   "id": "f7990dba-39f6-4223-844e-81b79d6b4f50",
   "metadata": {},
   "outputs": [],
   "source": [
    "#Showing data types of below variables\n",
    "var1 = ''\n",
    "var2 = '[DS,ML,Python]'\n",
    "var3 = ['DS','ML','Python']\n",
    "var4 = 1"
   ]
  },
  {
   "cell_type": "code",
   "execution_count": 10,
   "id": "04ba90b5-e2f4-438f-80c3-7e4a6111789d",
   "metadata": {},
   "outputs": [
    {
     "data": {
      "text/plain": [
       "str"
      ]
     },
     "execution_count": 10,
     "metadata": {},
     "output_type": "execute_result"
    }
   ],
   "source": [
    "type(var1)"
   ]
  },
  {
   "cell_type": "code",
   "execution_count": 11,
   "id": "39720627-a891-4ac5-9ac7-8ac932b04018",
   "metadata": {},
   "outputs": [
    {
     "data": {
      "text/plain": [
       "str"
      ]
     },
     "execution_count": 11,
     "metadata": {},
     "output_type": "execute_result"
    }
   ],
   "source": [
    "type(var2)"
   ]
  },
  {
   "cell_type": "code",
   "execution_count": 12,
   "id": "a5e1c7f9-019c-410a-86f1-f51b6662b742",
   "metadata": {},
   "outputs": [
    {
     "data": {
      "text/plain": [
       "list"
      ]
     },
     "execution_count": 12,
     "metadata": {},
     "output_type": "execute_result"
    }
   ],
   "source": [
    "type(var3)"
   ]
  },
  {
   "cell_type": "code",
   "execution_count": 13,
   "id": "35a78c45-f88f-4cb3-bcc7-c8f19085dcd4",
   "metadata": {},
   "outputs": [
    {
     "data": {
      "text/plain": [
       "int"
      ]
     },
     "execution_count": 13,
     "metadata": {},
     "output_type": "execute_result"
    }
   ],
   "source": [
    "type(var4)"
   ]
  },
  {
   "cell_type": "code",
   "execution_count": 14,
   "id": "6c352dcf-a210-4963-aa94-e4eb48fa7a20",
   "metadata": {},
   "outputs": [
    {
     "data": {
      "text/plain": [
       "2.0"
      ]
     },
     "execution_count": 14,
     "metadata": {},
     "output_type": "execute_result"
    }
   ],
   "source": [
    "#Explaining Arithmatic operators using some example\n",
    "#Divide-\n",
    "4/2"
   ]
  },
  {
   "cell_type": "code",
   "execution_count": 15,
   "id": "0ee7b463-ba16-41f2-90a3-67ecdd7f16a1",
   "metadata": {},
   "outputs": [
    {
     "data": {
      "text/plain": [
       "1"
      ]
     },
     "execution_count": 15,
     "metadata": {},
     "output_type": "execute_result"
    }
   ],
   "source": [
    "#Remainder-\n",
    "3%2"
   ]
  },
  {
   "cell_type": "code",
   "execution_count": 16,
   "id": "b2b195d8-02e1-4d2a-b985-c93591dfad99",
   "metadata": {},
   "outputs": [
    {
     "data": {
      "text/plain": [
       "3"
      ]
     },
     "execution_count": 16,
     "metadata": {},
     "output_type": "execute_result"
    }
   ],
   "source": [
    "#Quotient-\n",
    "11//3"
   ]
  },
  {
   "cell_type": "code",
   "execution_count": 17,
   "id": "a9fde0b8-32e4-4575-a9a0-2b5e2bab4a71",
   "metadata": {},
   "outputs": [
    {
     "data": {
      "text/plain": [
       "16"
      ]
     },
     "execution_count": 17,
     "metadata": {},
     "output_type": "execute_result"
    }
   ],
   "source": [
    "#Power-\n",
    "2**4"
   ]
  },
  {
   "cell_type": "code",
   "execution_count": 18,
   "id": "3ada9381-de3c-4383-8a71-fbe0f9a5cae2",
   "metadata": {},
   "outputs": [],
   "source": [
    "#Creating a list of length 10 and using for loop to print the element & its data type\n",
    "list2 = [1,4,\"DS\",45.6,True,10,11,\"PW\",33,10]"
   ]
  },
  {
   "cell_type": "code",
   "execution_count": 19,
   "id": "2ea59e8a-e383-4cc8-9423-6ff247c98c22",
   "metadata": {},
   "outputs": [
    {
     "name": "stdout",
     "output_type": "stream",
     "text": [
      "1 <class 'int'>\n",
      "4 <class 'int'>\n",
      "DS <class 'str'>\n",
      "45.6 <class 'float'>\n",
      "True <class 'bool'>\n",
      "10 <class 'int'>\n",
      "11 <class 'int'>\n",
      "PW <class 'str'>\n",
      "33 <class 'int'>\n",
      "10 <class 'int'>\n"
     ]
    }
   ],
   "source": [
    "for i in list2:\n",
    "    print(i, type(i))"
   ]
  },
  {
   "cell_type": "code",
   "execution_count": 27,
   "id": "72b8ebac-f7e7-438f-99ab-b3ec7433eabf",
   "metadata": {},
   "outputs": [
    {
     "name": "stdin",
     "output_type": "stream",
     "text": [
      "Please enter the value which should be greater than 0: 50\n",
      "Please enter the value which should be lesser than the 1st one: 10\n"
     ]
    },
    {
     "name": "stdout",
     "output_type": "stream",
     "text": [
      "It is divisible by 1 times\n"
     ]
    }
   ],
   "source": [
    "#Using a while loop, verifing the number of A is purely divisible by number B and if so then how many times it can be divisible\n",
    "A = int(input('Please enter the value which should be greater than 0:'))\n",
    "B = int(input('Please enter the value which should be lesser than the 1st one:'))\n",
    "\n",
    "i = 0\n",
    "\n",
    "while A%B==0:\n",
    "    A = A/B\n",
    "    i = i+1\n",
    "\n",
    "if i>0:\n",
    "    print(\"It is divisible by\", i,\"times\")\n",
    "else:\n",
    "    print(\"Number of A is not purely divisible by B\")\n",
    "    \n",
    "    "
   ]
  },
  {
   "cell_type": "code",
   "execution_count": 2,
   "id": "5deecf05-babf-4594-97f2-a5ce37aafb66",
   "metadata": {},
   "outputs": [
    {
     "name": "stdout",
     "output_type": "stream",
     "text": [
      "[1, 2, 3, 4, 5, 6, 7, 8, 9, 10, 11, 12, 13, 14, 15, 16, 17, 18, 19, 20, 21, 22, 23, 24, 25]\n",
      "The value which is not divisible by 3 is: 1\n",
      "The value which is not divisible by 3 is: 2\n",
      "The value divisible by 3 is: 3\n",
      "The value which is not divisible by 3 is: 4\n",
      "The value which is not divisible by 3 is: 5\n",
      "The value divisible by 3 is: 6\n",
      "The value which is not divisible by 3 is: 7\n",
      "The value which is not divisible by 3 is: 8\n",
      "The value divisible by 3 is: 9\n",
      "The value which is not divisible by 3 is: 10\n",
      "The value which is not divisible by 3 is: 11\n",
      "The value divisible by 3 is: 12\n",
      "The value which is not divisible by 3 is: 13\n",
      "The value which is not divisible by 3 is: 14\n",
      "The value divisible by 3 is: 15\n",
      "The value which is not divisible by 3 is: 16\n",
      "The value which is not divisible by 3 is: 17\n",
      "The value divisible by 3 is: 18\n",
      "The value which is not divisible by 3 is: 19\n",
      "The value which is not divisible by 3 is: 20\n",
      "The value divisible by 3 is: 21\n",
      "The value which is not divisible by 3 is: 22\n",
      "The value which is not divisible by 3 is: 23\n",
      "The value divisible by 3 is: 24\n",
      "The value which is not divisible by 3 is: 25\n"
     ]
    }
   ],
   "source": [
    "#Creating a list containing 25 int type data. Using for loop and if-else condition print if the element is divisible by 3 or not.\n",
    "\n",
    "list2 = []\n",
    "\n",
    "for i in range(1,26):\n",
    "    list2.append(i)\n",
    "\n",
    "print(list2)\n",
    "\n",
    "for a in list2:\n",
    "    if a%3==0:\n",
    "        print(\"The value divisible by 3 is:\",a)\n",
    "        \n",
    "    else:\n",
    "        print(\"The value which is not divisible by 3 is:\",a)\n"
   ]
  },
  {
   "cell_type": "code",
   "execution_count": 3,
   "id": "96c7d048-5c6a-4939-b780-0ebf9e5a7c6b",
   "metadata": {},
   "outputs": [
    {
     "name": "stdout",
     "output_type": "stream",
     "text": [
      "[23, 42, 'DS', 55]\n",
      "[23, 42, 'DS', 25]\n"
     ]
    }
   ],
   "source": [
    "#Mutable data types are the data types which we can change like list:-\n",
    "list3 = [23,42,\"DS\",55]\n",
    "print(list3)\n",
    "list3[3] = 25\n",
    "print(list3)"
   ]
  },
  {
   "cell_type": "code",
   "execution_count": 4,
   "id": "c9b28fd1-8356-4b2b-b92c-7875bb4d20ef",
   "metadata": {},
   "outputs": [
    {
     "name": "stdout",
     "output_type": "stream",
     "text": [
      "Varun\n"
     ]
    },
    {
     "ename": "TypeError",
     "evalue": "'str' object does not support item assignment",
     "output_type": "error",
     "traceback": [
      "\u001b[0;31m---------------------------------------------------------------------------\u001b[0m",
      "\u001b[0;31mTypeError\u001b[0m                                 Traceback (most recent call last)",
      "Cell \u001b[0;32mIn[4], line 4\u001b[0m\n\u001b[1;32m      2\u001b[0m v \u001b[38;5;241m=\u001b[39m \u001b[38;5;124m\"\u001b[39m\u001b[38;5;124mVarun\u001b[39m\u001b[38;5;124m\"\u001b[39m\n\u001b[1;32m      3\u001b[0m \u001b[38;5;28mprint\u001b[39m(v)\n\u001b[0;32m----> 4\u001b[0m \u001b[43mv\u001b[49m\u001b[43m[\u001b[49m\u001b[38;5;241;43m2\u001b[39;49m\u001b[43m]\u001b[49m \u001b[38;5;241m=\u001b[39m \u001b[38;5;124m\"\u001b[39m\u001b[38;5;124ms\u001b[39m\u001b[38;5;124m\"\u001b[39m\n\u001b[1;32m      5\u001b[0m \u001b[38;5;28mprint\u001b[39m(v)\n",
      "\u001b[0;31mTypeError\u001b[0m: 'str' object does not support item assignment"
     ]
    }
   ],
   "source": [
    "#Immutable data types are the data types which we cannot change or update like variable that containing strings\n",
    "v = \"Varun\"\n",
    "print(v)\n",
    "v[2] = \"s\"\n",
    "print(v)"
   ]
  }
 ],
 "metadata": {
  "kernelspec": {
   "display_name": "Python 3 (ipykernel)",
   "language": "python",
   "name": "python3"
  },
  "language_info": {
   "codemirror_mode": {
    "name": "ipython",
    "version": 3
   },
   "file_extension": ".py",
   "mimetype": "text/x-python",
   "name": "python",
   "nbconvert_exporter": "python",
   "pygments_lexer": "ipython3",
   "version": "3.10.8"
  }
 },
 "nbformat": 4,
 "nbformat_minor": 5
}
