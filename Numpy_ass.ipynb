{
 "cells": [
  {
   "cell_type": "code",
   "execution_count": 23,
   "id": "02c7fe63-0b8b-4cee-9bd7-9fa908f733d3",
   "metadata": {},
   "outputs": [],
   "source": [
    "# Consider the below code to answer further questions:\n",
    "import numpy as np\n",
    "list_ = [ '1' , '2' , '3' , '4' , '5' ]\n",
    "array_list = np.array(object = list_)"
   ]
  },
  {
   "cell_type": "code",
   "execution_count": 24,
   "id": "8c73dcad-87ae-4d9e-83bd-1f3c997bdfcb",
   "metadata": {},
   "outputs": [
    {
     "data": {
      "text/plain": [
       "array(['1', '2', '3', '4', '5'], dtype='<U1')"
      ]
     },
     "execution_count": 24,
     "metadata": {},
     "output_type": "execute_result"
    }
   ],
   "source": [
    "array_list"
   ]
  },
  {
   "cell_type": "markdown",
   "id": "836c52c1-6ae4-41a5-8388-319014c417ae",
   "metadata": {},
   "source": [
    "Q1. Is there any difference in the data type of variables list_ and array_list? If there is then write a code\n",
    "to print the data types of both the variables."
   ]
  },
  {
   "cell_type": "raw",
   "id": "7ff5a7a5-f4c2-433e-8e99-c5598491588d",
   "metadata": {},
   "source": [
    "Yes, The primary difference between list_ and array_list is that list_ is a regular Python list, while array_list is a NumPy array created from that list."
   ]
  },
  {
   "cell_type": "code",
   "execution_count": 25,
   "id": "c2be2d21-fe45-4d83-a770-52b66189ad87",
   "metadata": {},
   "outputs": [
    {
     "data": {
      "text/plain": [
       "list"
      ]
     },
     "execution_count": 25,
     "metadata": {},
     "output_type": "execute_result"
    }
   ],
   "source": [
    "type(list_)"
   ]
  },
  {
   "cell_type": "code",
   "execution_count": 26,
   "id": "953575b9-9215-4407-8e24-50b65dd6cc60",
   "metadata": {},
   "outputs": [
    {
     "data": {
      "text/plain": [
       "numpy.ndarray"
      ]
     },
     "execution_count": 26,
     "metadata": {},
     "output_type": "execute_result"
    }
   ],
   "source": [
    "type(array_list)"
   ]
  },
  {
   "cell_type": "markdown",
   "id": "9bfb047c-4b73-436c-803c-a1651cacc156",
   "metadata": {},
   "source": [
    "Q2. Write a code to print the data type of each and every element of both the variables list_ and\n",
    "arra_list."
   ]
  },
  {
   "cell_type": "code",
   "execution_count": 27,
   "id": "0269af20-5aaf-4d64-ad39-f22c55e2ea65",
   "metadata": {},
   "outputs": [],
   "source": [
    "def data_type_list(n):\n",
    "    for i in n:\n",
    "        print(type(i), end = ',')"
   ]
  },
  {
   "cell_type": "code",
   "execution_count": 12,
   "id": "5cd87a5d-a2e9-4411-9127-1f60e09abfb3",
   "metadata": {},
   "outputs": [
    {
     "name": "stdout",
     "output_type": "stream",
     "text": [
      "<class 'str'>,<class 'str'>,<class 'str'>,<class 'str'>,<class 'str'>,"
     ]
    }
   ],
   "source": [
    "data_type_list(list_)"
   ]
  },
  {
   "cell_type": "code",
   "execution_count": 28,
   "id": "7a37f739-419b-4b14-b60a-0f2859f4e4b1",
   "metadata": {},
   "outputs": [
    {
     "data": {
      "text/plain": [
       "array([<class 'numpy.str_'>, <class 'numpy.str_'>, <class 'numpy.str_'>,\n",
       "       <class 'numpy.str_'>, <class 'numpy.str_'>], dtype=object)"
      ]
     },
     "execution_count": 28,
     "metadata": {},
     "output_type": "execute_result"
    }
   ],
   "source": [
    "np.array([type(i) for i in array_list])"
   ]
  },
  {
   "cell_type": "markdown",
   "id": "1c17e0ea-8414-4932-9bb1-461ed8f41fd0",
   "metadata": {},
   "source": [
    "Q3. Considering the following changes in the variable, array_list:"
   ]
  },
  {
   "cell_type": "code",
   "execution_count": 29,
   "id": "52691f8b-e3e9-4066-a392-d995c6b1c2ff",
   "metadata": {},
   "outputs": [],
   "source": [
    "array_list = np.array(object = list_, dtype = int)"
   ]
  },
  {
   "cell_type": "raw",
   "id": "78ca522a-86a4-4a6c-9c67-e74e811e90e6",
   "metadata": {},
   "source": [
    "Will there be any difference in the data type of the elements present in both the variables, list_ and\n",
    "arra_list? If so then print the data types of each and every element present in both the variables, list_\n",
    "and arra_list."
   ]
  },
  {
   "cell_type": "code",
   "execution_count": 30,
   "id": "824fd5b1-7790-4da7-8362-7f195e0f9850",
   "metadata": {},
   "outputs": [],
   "source": [
    "# Changes will only be happened in array_list not list_"
   ]
  },
  {
   "cell_type": "code",
   "execution_count": 31,
   "id": "9ae67b7e-e403-4743-a1f6-fa4802e4cb12",
   "metadata": {},
   "outputs": [
    {
     "name": "stdout",
     "output_type": "stream",
     "text": [
      "<class 'str'>,<class 'str'>,<class 'str'>,<class 'str'>,<class 'str'>,"
     ]
    }
   ],
   "source": [
    "data_type_list(list_)"
   ]
  },
  {
   "cell_type": "code",
   "execution_count": 33,
   "id": "4f71fbfe-28ee-44a0-a279-77de64324238",
   "metadata": {},
   "outputs": [
    {
     "name": "stdout",
     "output_type": "stream",
     "text": [
      "<class 'numpy.int64'>,<class 'numpy.int64'>,<class 'numpy.int64'>,<class 'numpy.int64'>,<class 'numpy.int64'>,"
     ]
    }
   ],
   "source": [
    "data_type_list(array_list)"
   ]
  },
  {
   "cell_type": "code",
   "execution_count": 34,
   "id": "05c1a2d5-25a0-4ed4-8767-6d1f5ce5f528",
   "metadata": {},
   "outputs": [],
   "source": [
    "# Consider the below code to answer further questions:\n",
    "import numpy as np\n",
    "num_list = [ [ 1 , 2 , 3 ] , [ 4 , 5 , 6 ] ]\n",
    "num_array = np.array(object = num_list)"
   ]
  },
  {
   "cell_type": "code",
   "execution_count": 37,
   "id": "632f407d-3934-4a84-805f-5254758deef3",
   "metadata": {},
   "outputs": [
    {
     "data": {
      "text/plain": [
       "array([[1, 2, 3],\n",
       "       [4, 5, 6]])"
      ]
     },
     "execution_count": 37,
     "metadata": {},
     "output_type": "execute_result"
    }
   ],
   "source": [
    "num_array"
   ]
  },
  {
   "cell_type": "raw",
   "id": "38964e81-b54a-49f9-8182-e360479fc412",
   "metadata": {},
   "source": [
    "Q4. Write a code to find the following characteristics of variable, num_array:\n",
    "(i) shape\n",
    "(ii) size"
   ]
  },
  {
   "cell_type": "code",
   "execution_count": 39,
   "id": "139d2a56-39e7-49c6-b877-3a2776cdb77b",
   "metadata": {},
   "outputs": [
    {
     "data": {
      "text/plain": [
       "(2, 3)"
      ]
     },
     "execution_count": 39,
     "metadata": {},
     "output_type": "execute_result"
    }
   ],
   "source": [
    "num_array.shape"
   ]
  },
  {
   "cell_type": "code",
   "execution_count": 40,
   "id": "4232d850-4801-43e6-a7fc-8605fd06997c",
   "metadata": {},
   "outputs": [
    {
     "data": {
      "text/plain": [
       "6"
      ]
     },
     "execution_count": 40,
     "metadata": {},
     "output_type": "execute_result"
    }
   ],
   "source": [
    "num_array.size"
   ]
  },
  {
   "cell_type": "raw",
   "id": "68d441cb-d6c4-492a-b3c0-33c69684caaf",
   "metadata": {},
   "source": [
    "Q5. Write a code to create numpy array of 3*3 matrix containing zeros only, using a numpy array\n",
    "creation function.\n",
    "[Hint: The size of the array will be 9 and the shape will be (3,3).]"
   ]
  },
  {
   "cell_type": "code",
   "execution_count": 44,
   "id": "264584e8-5420-4908-8fc6-78d20c8ac64d",
   "metadata": {},
   "outputs": [],
   "source": [
    "arr = np.zeros(9)"
   ]
  },
  {
   "cell_type": "code",
   "execution_count": 45,
   "id": "620667b3-fbc1-4f0e-bdae-a0cede17021c",
   "metadata": {},
   "outputs": [
    {
     "data": {
      "text/plain": [
       "array([[0., 0., 0.],\n",
       "       [0., 0., 0.],\n",
       "       [0., 0., 0.]])"
      ]
     },
     "execution_count": 45,
     "metadata": {},
     "output_type": "execute_result"
    }
   ],
   "source": [
    "arr.reshape(3,3)"
   ]
  },
  {
   "cell_type": "raw",
   "id": "fd480ab8-10fe-4d60-9ad6-bf76bee045d2",
   "metadata": {},
   "source": [
    "Q6. Create an identity matrix of shape (5,5) using numpy functions?\n",
    "[Hint: An identity matrix is a matrix containing 1 diagonally and other elements will be 0.]"
   ]
  },
  {
   "cell_type": "code",
   "execution_count": 48,
   "id": "d35fd46a-bcf4-41c3-8f59-52799a3612fe",
   "metadata": {},
   "outputs": [],
   "source": [
    "arr1 = np.eye(5)"
   ]
  },
  {
   "cell_type": "code",
   "execution_count": 49,
   "id": "5bc8c41f-2699-4123-a149-83506bc24e81",
   "metadata": {},
   "outputs": [
    {
     "data": {
      "text/plain": [
       "array([[1., 0., 0., 0., 0.],\n",
       "       [0., 1., 0., 0., 0.],\n",
       "       [0., 0., 1., 0., 0.],\n",
       "       [0., 0., 0., 1., 0.],\n",
       "       [0., 0., 0., 0., 1.]])"
      ]
     },
     "execution_count": 49,
     "metadata": {},
     "output_type": "execute_result"
    }
   ],
   "source": [
    "arr1"
   ]
  }
 ],
 "metadata": {
  "kernelspec": {
   "display_name": "Python 3 (ipykernel)",
   "language": "python",
   "name": "python3"
  },
  "language_info": {
   "codemirror_mode": {
    "name": "ipython",
    "version": 3
   },
   "file_extension": ".py",
   "mimetype": "text/x-python",
   "name": "python",
   "nbconvert_exporter": "python",
   "pygments_lexer": "ipython3",
   "version": "3.10.8"
  }
 },
 "nbformat": 4,
 "nbformat_minor": 5
}
