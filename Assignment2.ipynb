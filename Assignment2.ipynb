{
 "cells": [
  {
   "cell_type": "code",
   "execution_count": 2,
   "id": "8225656c-fe98-4282-b6f0-2ec510a31a39",
   "metadata": {},
   "outputs": [
    {
     "name": "stdout",
     "output_type": "stream",
     "text": [
      "Hello PW Skills\n"
     ]
    }
   ],
   "source": [
    "#Q1.How do you comment code in Python? What are the different types of comments?\n",
    "#Ans. To comment code in Python we use \"#\" symbol followed by the comment text like I am writing right now.\n",
    "\n",
    "# There are two types of comments:-\n",
    "'''\n",
    "1. Single line comment which we can see above\n",
    "2. Multiline comment like I am writing right now.\n",
    "\n",
    "'''\n",
    "\n",
    "print(\"Hello PW Skills\")"
   ]
  },
  {
   "cell_type": "code",
   "execution_count": 3,
   "id": "ee0a282c-4081-4fa8-9615-2b66e8d4bbe1",
   "metadata": {},
   "outputs": [
    {
     "name": "stdout",
     "output_type": "stream",
     "text": [
      "PW Skills\n"
     ]
    }
   ],
   "source": [
    "# Q2.What are variables in Python? How do you declare and assign values to variables?\n",
    "#Ans. Variables use to store and represent data in Python.\n",
    "#Below is the example, how we can declare and assign values to variables:-\n",
    "a = \"PW Skills\"\n",
    "\n",
    "print(a)\n"
   ]
  },
  {
   "cell_type": "code",
   "execution_count": 4,
   "id": "e7d1b1ed-a130-4534-8924-8cb448516a96",
   "metadata": {},
   "outputs": [
    {
     "name": "stdout",
     "output_type": "stream",
     "text": [
      "45.6\n",
      "45\n"
     ]
    }
   ],
   "source": [
    "#Q3. How do you convert one data type to another in Python?\n",
    "#Ans.\n",
    "a = 45.6\n",
    "print(a)\n",
    "b = int(a)\n",
    "print(b)"
   ]
  },
  {
   "cell_type": "code",
   "execution_count": 20,
   "id": "5f1e12bb-2d94-4e5a-9339-d97c56792915",
   "metadata": {},
   "outputs": [
    {
     "name": "stderr",
     "output_type": "stream",
     "text": [
      "UsageError: Line magic function `%%python` not found.\n"
     ]
    }
   ],
   "source": [
    "#Q4. How do you write and execute a Python script from the command line?\n",
    "#Ans. First I will save the file with .py extension then I will run from the name i save the file.\n",
    "%%python \"C:/Users/xyz/Documents/First_script.py\"\n",
    "%%python \"First_script.py\""
   ]
  },
  {
   "cell_type": "code",
   "execution_count": 25,
   "id": "64c16768-7a3b-402e-82a1-10bed8bce7c9",
   "metadata": {},
   "outputs": [
    {
     "data": {
      "text/plain": [
       "[2, 3]"
      ]
     },
     "execution_count": 25,
     "metadata": {},
     "output_type": "execute_result"
    }
   ],
   "source": [
    "# Q5. Given a list my_list = [1, 2, 3, 4, 5], write the code to slice the list and obtain the sub-list [2, 3].\n",
    "my_list = [1,2,3,4,5]\n",
    "my_list[1:3]"
   ]
  },
  {
   "cell_type": "code",
   "execution_count": 35,
   "id": "8763c4a9-8d9d-40fb-ad3a-55db3a0c10cd",
   "metadata": {},
   "outputs": [],
   "source": [
    "# Q6. What is a complex number in mathematics, and how is it represented in Python?\n",
    "'''A Complex Number is a combination of a\n",
    "Real Number and an Imaginary Numbert''' \n",
    "number = 2 + 5j"
   ]
  },
  {
   "cell_type": "code",
   "execution_count": 34,
   "id": "e2f4aed8-3659-4ab5-b1ad-5287eeaa0aa8",
   "metadata": {},
   "outputs": [
    {
     "data": {
      "text/plain": [
       "complex"
      ]
     },
     "execution_count": 34,
     "metadata": {},
     "output_type": "execute_result"
    }
   ],
   "source": [
    "type(number)"
   ]
  },
  {
   "cell_type": "code",
   "execution_count": 37,
   "id": "870000f8-06b7-4e94-bdca-0c14c5d61015",
   "metadata": {},
   "outputs": [],
   "source": [
    "# Q7. What is the correct way to declare a variable named age and assign the value 25 to it?\n",
    "#Ans. To assigning a value with assignment operator (=)\n",
    "age = 25"
   ]
  },
  {
   "cell_type": "code",
   "execution_count": 38,
   "id": "96234571-088a-494b-8eb7-fd16cf74d50b",
   "metadata": {},
   "outputs": [
    {
     "name": "stdout",
     "output_type": "stream",
     "text": [
      "25\n"
     ]
    }
   ],
   "source": [
    "print(age)"
   ]
  },
  {
   "cell_type": "code",
   "execution_count": 39,
   "id": "ed6e6f89-5a20-43b8-84a1-0c3d758a4f67",
   "metadata": {},
   "outputs": [
    {
     "data": {
      "text/plain": [
       "float"
      ]
     },
     "execution_count": 39,
     "metadata": {},
     "output_type": "execute_result"
    }
   ],
   "source": [
    "# Q8. Declare a variable named price and assign the value 9.99 to it. What data type does this variable belong to?\n",
    "price = 9.99\n",
    "type(price)"
   ]
  },
  {
   "cell_type": "code",
   "execution_count": 40,
   "id": "0064258e-605d-4639-8b45-a12a0c756f64",
   "metadata": {},
   "outputs": [
    {
     "name": "stdout",
     "output_type": "stream",
     "text": [
      "Varun Singh\n"
     ]
    }
   ],
   "source": [
    "# Q9. Create a variable named name and assign your full name to it as a string. How would you print the value of this variable?\n",
    "name = \"Varun Singh\"\n",
    "print(name)"
   ]
  },
  {
   "cell_type": "code",
   "execution_count": 42,
   "id": "da869b6e-e190-44fc-b73a-b3a61969ea8a",
   "metadata": {},
   "outputs": [
    {
     "data": {
      "text/plain": [
       "'Hello'"
      ]
     },
     "execution_count": 42,
     "metadata": {},
     "output_type": "execute_result"
    }
   ],
   "source": [
    "# Q10. Given the string \"Hello, World!\", extract the substring \"World\".\n",
    "str = \"Hello, world!\"\n",
    "str[0:5]"
   ]
  },
  {
   "cell_type": "code",
   "execution_count": 45,
   "id": "afd22592-0c41-4a87-92fc-0f93a5dd42e0",
   "metadata": {},
   "outputs": [
    {
     "data": {
      "text/plain": [
       "'Hello'"
      ]
     },
     "execution_count": 45,
     "metadata": {},
     "output_type": "execute_result"
    }
   ],
   "source": [
    "a = str.split(\",\")\n",
    "a[0]"
   ]
  },
  {
   "cell_type": "code",
   "execution_count": 53,
   "id": "32b45724-f7b0-4c0e-86a3-1a04bdeed23b",
   "metadata": {},
   "outputs": [
    {
     "data": {
      "text/plain": [
       "bool"
      ]
     },
     "execution_count": 53,
     "metadata": {},
     "output_type": "execute_result"
    }
   ],
   "source": [
    "# Q11. Create a variable named \"is_student\" and assign it a boolean value indicating whether you are currently a student or not.\n",
    "is_student = True\n",
    "type(is_student)"
   ]
  },
  {
   "cell_type": "code",
   "execution_count": 54,
   "id": "d9f9f106-4e4a-47b1-a721-d4be25ec5f55",
   "metadata": {},
   "outputs": [
    {
     "name": "stdout",
     "output_type": "stream",
     "text": [
      "True\n"
     ]
    }
   ],
   "source": [
    "print(is_student)"
   ]
  },
  {
   "cell_type": "code",
   "execution_count": null,
   "id": "69648d0c-ddea-4479-abb4-325aa46a7e8c",
   "metadata": {},
   "outputs": [],
   "source": []
  }
 ],
 "metadata": {
  "kernelspec": {
   "display_name": "Python 3 (ipykernel)",
   "language": "python",
   "name": "python3"
  },
  "language_info": {
   "codemirror_mode": {
    "name": "ipython",
    "version": 3
   },
   "file_extension": ".py",
   "mimetype": "text/x-python",
   "name": "python",
   "nbconvert_exporter": "python",
   "pygments_lexer": "ipython3",
   "version": "3.10.8"
  }
 },
 "nbformat": 4,
 "nbformat_minor": 5
}
