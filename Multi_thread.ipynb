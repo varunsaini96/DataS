{
 "cells": [
  {
   "cell_type": "markdown",
   "id": "e142facb-c7d0-4643-8806-c710b13ec2a8",
   "metadata": {},
   "source": [
    "Q1. What is multithreading in python? Why is it used? Name the module used to handle threads in python"
   ]
  },
  {
   "cell_type": "markdown",
   "id": "9d8e9852-8ddc-4726-b802-415bc470dbfb",
   "metadata": {},
   "source": [
    "Multithreading is defined as the ability of a processor to execute multiple threads concurrently. In a simple, single-core CPU, it is achieved using frequent switching between threads."
   ]
  },
  {
   "cell_type": "markdown",
   "id": "7fd58990-1bed-42a4-b68e-67ccfba199aa",
   "metadata": {},
   "source": [
    "Python multithreading enables efficient utilization of the resources as the threads share the data space and memory."
   ]
  },
  {
   "cell_type": "markdown",
   "id": "d6595099-5b86-45bd-84eb-3422beab86ca",
   "metadata": {},
   "source": [
    "\"threading\" module is used to handle threads in python"
   ]
  },
  {
   "cell_type": "markdown",
   "id": "a8107d58-9813-440b-92fe-eae4941d645f",
   "metadata": {},
   "source": [
    "Q2. Why threading module used? Write the use of the following functions\n",
    "1. activeCount()\n",
    "2. currentThread()\n",
    "3. enumerate()"
   ]
  },
  {
   "cell_type": "markdown",
   "id": "6d202169-21be-4395-aa86-9f5e82931278",
   "metadata": {},
   "source": [
    "The threading module in Python is used to create and manage threads, which are smaller units of a program's execution. Threads allow a program to perform multiple tasks concurrently, making it possible to achieve better performance and responsiveness, especially in scenarios where some tasks might block"
   ]
  },
  {
   "cell_type": "markdown",
   "id": "e7280bc7-a349-4180-8824-217b1857f625",
   "metadata": {},
   "source": [
    "1. activeCount() function is used to determine the number of active threads"
   ]
  },
  {
   "cell_type": "markdown",
   "id": "4e8b10d3-0b5e-4929-bda9-01e9bcc04bc9",
   "metadata": {},
   "source": [
    "2. currentThread():- This function returns the current Thread object corresponding to the caller's thread of execution. This is useful for identifying and managing the currently executing thread."
   ]
  },
  {
   "cell_type": "markdown",
   "id": "03892f2e-1ac6-4dc8-9cde-3c0199f3be1c",
   "metadata": {},
   "source": [
    "3. enumerate():- This  function returns a list of all Thread objects currently alive. This is a convenience function that provides a list of active threads, making it easy to manage multiple threads."
   ]
  },
  {
   "cell_type": "markdown",
   "id": "69ee5af4-5b1b-4fa2-a12c-12308a9e7155",
   "metadata": {},
   "source": [
    "Q3. Explain the following functions:\n",
    "    1. run()\n",
    "    2. start()\n",
    "    3. join()\n",
    "    4. isAlive()"
   ]
  },
  {
   "cell_type": "markdown",
   "id": "04efa9b7-6ee9-46a9-88f8-0316e0801718",
   "metadata": {},
   "source": [
    "The run() method is the entry point for the thread's execution logic. When you subclass the threading.Thread class and override the run() method in your subclass, the code you put inside run() will be executed when the thread is started using the start() method."
   ]
  },
  {
   "cell_type": "code",
   "execution_count": 7,
   "id": "e8afd1c3-9473-439f-93a8-dd481b872f11",
   "metadata": {},
   "outputs": [
    {
     "name": "stdout",
     "output_type": "stream",
     "text": [
      "This is threading\n"
     ]
    }
   ],
   "source": [
    "import threading\n",
    "\n",
    "class test(threading.Thread):\n",
    "    def run(self):\n",
    "        print(\"This is threading\")\n",
    "        \n",
    "t = test()\n",
    "\n",
    "t.start()"
   ]
  },
  {
   "cell_type": "markdown",
   "id": "2f91cfda-d092-4db5-9f3e-f0ec0455cf56",
   "metadata": {},
   "source": [
    "The start() method is used to start the execution of a thread. When this method is called, a new thread is created, and the code inside the thread's run() method (if overridden) will be executed in a separate thread of execution."
   ]
  },
  {
   "cell_type": "code",
   "execution_count": 8,
   "id": "a134d16a-79a3-4e7b-a81c-86efd4a16bc8",
   "metadata": {},
   "outputs": [
    {
     "name": "stdout",
     "output_type": "stream",
     "text": [
      "This is threading\n"
     ]
    }
   ],
   "source": [
    "import threading\n",
    "\n",
    "def test() :\n",
    "    print(\"This is threading\")\n",
    "\n",
    "thrd = threading.Thread(target = test)\n",
    "\n",
    "thrd.start()"
   ]
  },
  {
   "cell_type": "markdown",
   "id": "18ee8e6a-2f87-467e-80cf-4b88e222afde",
   "metadata": {},
   "source": [
    "The join() method is used to wait for a thread to finish its execution before the program continues. It blocks the calling thread (usually the main thread) until the specified thread (the one you call join() on) completes its execution."
   ]
  },
  {
   "cell_type": "code",
   "execution_count": 13,
   "id": "0d64a384-4188-46ed-afab-2fe859c6a29a",
   "metadata": {},
   "outputs": [
    {
     "name": "stdout",
     "output_type": "stream",
     "text": [
      "This is the message\n",
      "threading continues\n"
     ]
    }
   ],
   "source": [
    "import threading\n",
    "\n",
    "def test2():\n",
    "    print(\"This is the message\")\n",
    "\n",
    "t = threading.Thread(target=test2)\n",
    "t.start()  # Start the test2 thread\n",
    "t.join()   # Wait for the test2 thread to finish\n",
    "print(\"threading continues\")"
   ]
  },
  {
   "cell_type": "markdown",
   "id": "81bead6b-641f-4ae4-b0b9-1e1aa48e8073",
   "metadata": {},
   "source": [
    "The isAlive() method is used to check whether a thread is currently alive (running) or has completed its execution. It returns True if the thread is still running and False if the thread has completed or has not been started."
   ]
  },
  {
   "cell_type": "code",
   "execution_count": 6,
   "id": "379de8c8-05ac-4ab5-b64a-5a4325516026",
   "metadata": {},
   "outputs": [
    {
     "name": "stdout",
     "output_type": "stream",
     "text": [
      "Thread start working\n",
      "Is thread working? False\n",
      "Thread is still alive? False\n"
     ]
    }
   ],
   "source": [
    "import threading\n",
    "\n",
    "def test3():\n",
    "    print(\"Thread start working\")\n",
    "\n",
    "t = threading.Thread(target=test3)\n",
    "t.start()  # Start the test3 thread\n",
    "\n",
    "print(\"Is thread working?\", t.is_alive())\n",
    "\n",
    "t.join()   # Wait for the worker thread to finish\n",
    "\n",
    "print(\"Thread is still alive?\", t.is_alive())"
   ]
  },
  {
   "cell_type": "markdown",
   "id": "e7ecc959-7456-4902-aa63-392684f49fe8",
   "metadata": {},
   "source": [
    "# Somehow in above code the Jupiter lab is not giving the actual result but getting below result when running VS Code"
   ]
  },
  {
   "cell_type": "markdown",
   "id": "c1e21184-379d-421a-b696-1d5b809ae242",
   "metadata": {},
   "source": [
    "Thread start working\n",
    "Is thread working? True\n",
    "Thread is still alive? False"
   ]
  },
  {
   "cell_type": "markdown",
   "id": "c4846119-f5a8-48bc-91da-561b7873e322",
   "metadata": {},
   "source": [
    "Q4. Write a python program to create two threads. Thread one must print the list of squares and thread\n",
    "two must print the list of cubes."
   ]
  },
  {
   "cell_type": "code",
   "execution_count": 23,
   "id": "e84a292e-eb76-4354-873c-911e112ed155",
   "metadata": {},
   "outputs": [
    {
     "name": "stdout",
     "output_type": "stream",
     "text": [
      "Square: 1\n",
      "Square: 4\n",
      "Square: 9\n",
      "Square: 16\n",
      "Square: 25\n",
      "Cube: 1\n",
      "Cube: 8\n",
      "Cube: 27\n",
      "Cube: 64\n",
      "Cube: 125\n"
     ]
    }
   ],
   "source": [
    "import threading\n",
    "\n",
    "def square(numbers):\n",
    "    for num in numbers:\n",
    "        print(\"Square:\", num**2)\n",
    "    \n",
    "def cube(numbers):\n",
    "    for num in numbers:\n",
    "        print(\"Cube:\", num**3)\n",
    "    \n",
    "thred1 = [threading.Thread(target=square, args=([number],)) for number in [1, 2, 3, 4, 5]]\n",
    "thred2 = [threading.Thread(target=cube, args=([number],)) for number in [1, 2, 3, 4, 5]]\n",
    "\n",
    "for t1 in thred1:\n",
    "    t1.start()\n",
    "    t1.join()\n",
    "\n",
    "for t2 in thred2:\n",
    "    t2.start()\n",
    "    t2.join()"
   ]
  },
  {
   "cell_type": "markdown",
   "id": "5476c646-967d-45e8-ab83-42da823d50af",
   "metadata": {},
   "source": [
    "Q5. State advantages and disadvantages of multithreading"
   ]
  },
  {
   "cell_type": "markdown",
   "id": "0d9d295d-5125-4ed1-a3cf-b37062f7c00f",
   "metadata": {},
   "source": [
    "Following are some of the common advantages of multithreading:\n",
    "\n",
    "-Enhanced performance by decreased development time\n",
    "-Simplified and streamlined program coding\n",
    "-Improvised GUI responsiveness\n",
    "-Simultaneous and parallelized occurrence of tasks\n",
    "-Better use of cache storage by utilization of resources\n",
    "-Decreased cost of maintenance\n",
    "-Better use of CPU resource\n",
    "\n",
    "Following are some of the disadvantages of multithreading:\n",
    "\n",
    "-Complex debugging and testing processes\n",
    "-Overhead switching of context\n",
    "-Increased potential for deadlock occurrence\n",
    "-Increased difficulty level in writing a program\n",
    "-Unpredictable results"
   ]
  },
  {
   "cell_type": "markdown",
   "id": "91e9eadb-d01d-4f5e-b1d2-ec9e8482759d",
   "metadata": {},
   "source": [
    "Q6. Explain deadlocks and race conditions."
   ]
  },
  {
   "cell_type": "code",
   "execution_count": 24,
   "id": "46896665-9f54-458e-9d73-dbe92b76f972",
   "metadata": {},
   "outputs": [],
   "source": [
    "# Deadlocks :- When two processes are waiting for each other directly or indirectly, it is called deadlock.\n",
    "\n",
    "# Race condition :- When two processes are competing with each other causing data corruption."
   ]
  }
 ],
 "metadata": {
  "kernelspec": {
   "display_name": "Python 3 (ipykernel)",
   "language": "python",
   "name": "python3"
  },
  "language_info": {
   "codemirror_mode": {
    "name": "ipython",
    "version": 3
   },
   "file_extension": ".py",
   "mimetype": "text/x-python",
   "name": "python",
   "nbconvert_exporter": "python",
   "pygments_lexer": "ipython3",
   "version": "3.10.8"
  }
 },
 "nbformat": 4,
 "nbformat_minor": 5
}
