{
 "cells": [
  {
   "cell_type": "markdown",
   "id": "96728e6c-cc81-42ce-9657-42f4f4834a11",
   "metadata": {},
   "source": [
    "Q1. What is multiprocessing in python? Why is it useful?"
   ]
  },
  {
   "cell_type": "markdown",
   "id": "baf4f11e-7a04-4b08-a81f-0795ce428f34",
   "metadata": {},
   "source": [
    "Multiprocessing is the ability of the system to run one or more processes in parallel. It is useful as It will enable the breaking of applications into smaller threads that can run independently which can significantly speed up CPU-bound tasks and computations."
   ]
  },
  {
   "cell_type": "markdown",
   "id": "7ad5febb-eee6-4f4a-a31b-d047524f0318",
   "metadata": {},
   "source": [
    "Q2. What are the differences between multiprocessing and multithreading?"
   ]
  },
  {
   "cell_type": "markdown",
   "id": "329acf9f-cc88-4742-80c8-87af93117213",
   "metadata": {},
   "source": [
    "Multiprocessing uses two or more CPUs to increase computing power, whereas multithreading uses a single process with multiple code segments to increase computing power. \n",
    "\n",
    "Multithreading focuses on generating computing threads from a single process, whereas multiprocessing increases computing power by adding CPUs."
   ]
  },
  {
   "cell_type": "markdown",
   "id": "9f81e204-2c05-46da-903d-77b5b4d7f9bc",
   "metadata": {},
   "source": [
    "Q3. Write a python code to create a process using the multiprocessing module."
   ]
  },
  {
   "cell_type": "code",
   "execution_count": 1,
   "id": "ad3ffe97-09d2-4844-b381-7cea9c0a30e0",
   "metadata": {},
   "outputs": [
    {
     "name": "stdout",
     "output_type": "stream",
     "text": [
      "This is my main process\n",
      "This is my multiprocessing programm\n"
     ]
    }
   ],
   "source": [
    "import multiprocessing\n",
    "\n",
    "def test():\n",
    "    print(\"This is my multiprocessing programm\")\n",
    "    \n",
    "if __name__ == \"__main__\" :\n",
    "    m = multiprocessing.Process(target = test)\n",
    "    print(\"This is my main process\")\n",
    "    m.start()\n",
    "    m.join()\n",
    "    "
   ]
  },
  {
   "cell_type": "markdown",
   "id": "6a62578a-e3ee-4b98-8cba-9c8016d9519c",
   "metadata": {},
   "source": [
    "Q4. What is a multiprocessing pool in python? Why is it used?"
   ]
  },
  {
   "cell_type": "markdown",
   "id": "7c819d08-50b1-4920-b406-7f1b169f3fb1",
   "metadata": {},
   "source": [
    "It creates multiple Python processes in the background and spreads out your computations for you across multiple CPU cores so that they all happen in parallel without you needing to do anything.\n",
    "Python multiprocessing Pool can be used for parallel execution of a function across multiple input values, distributing the input data across processes (data parallelism)."
   ]
  },
  {
   "cell_type": "markdown",
   "id": "f142b6f4-2f41-420e-87ec-b7cda5d25a0d",
   "metadata": {},
   "source": [
    "Q5. How can we create a pool of worker processes in python using the multiprocessing module?"
   ]
  },
  {
   "cell_type": "code",
   "execution_count": 8,
   "id": "fbd1b352-f27f-4379-bf9c-0e5e706be591",
   "metadata": {},
   "outputs": [
    {
     "name": "stdout",
     "output_type": "stream",
     "text": [
      "[1, 4, 9, 16, 25, 36, 49, 64, 81, 100]\n"
     ]
    }
   ],
   "source": [
    "import multiprocessing\n",
    "\n",
    "def square(n) :\n",
    "    return n**2\n",
    "\n",
    "if __name__==\"__main__\":\n",
    "    pool = multiprocessing.Pool(processes=8)\n",
    "    lst = pool.map(square, [1,2,3,4,5,6,7,8,9,10])\n",
    "\n",
    "    print(lst)"
   ]
  },
  {
   "cell_type": "markdown",
   "id": "478279c2-5861-40ce-98fa-1d4fa7dd6604",
   "metadata": {},
   "source": [
    "Q6. Write a python program to create 4 processes, each process should print a different number using the\n",
    "multiprocessing module in python."
   ]
  },
  {
   "cell_type": "code",
   "execution_count": 6,
   "id": "c0450427-884c-465c-86dc-fea1085f9d14",
   "metadata": {},
   "outputs": [
    {
     "name": "stdout",
     "output_type": "stream",
     "text": [
      "Process 1 prints: 1\n",
      "Process 2 prints: 2\n",
      "Process 3 prints: 3\n",
      "Process 4 prints: 4\n"
     ]
    }
   ],
   "source": [
    "def number(n):\n",
    "    print(\"Process\", n, \"prints:\", n)\n",
    "\n",
    "if __name__ == \"__main__\":\n",
    "    lst = []\n",
    "\n",
    "    for i in range(1, 5):\n",
    "        m = multiprocessing.Process(target=number, args=(i,))\n",
    "        lst.append(m)\n",
    "        m.start()\n",
    "        m.join()"
   ]
  }
 ],
 "metadata": {
  "kernelspec": {
   "display_name": "Python 3 (ipykernel)",
   "language": "python",
   "name": "python3"
  },
  "language_info": {
   "codemirror_mode": {
    "name": "ipython",
    "version": 3
   },
   "file_extension": ".py",
   "mimetype": "text/x-python",
   "name": "python",
   "nbconvert_exporter": "python",
   "pygments_lexer": "ipython3",
   "version": "3.10.8"
  }
 },
 "nbformat": 4,
 "nbformat_minor": 5
}
