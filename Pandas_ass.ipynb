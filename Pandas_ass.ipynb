{
 "cells": [
  {
   "cell_type": "raw",
   "id": "1870d4f5-b067-4138-8a97-6c48ba43a795",
   "metadata": {},
   "source": [
    "Q1. Create a Pandas Series that contains the following data: 4, 8, 15, 16, 23, and 42. Then, print the series."
   ]
  },
  {
   "cell_type": "code",
   "execution_count": 28,
   "id": "725f9cf6-d868-485a-a0c7-527cc3ebbe1b",
   "metadata": {},
   "outputs": [],
   "source": [
    "import pandas as pd"
   ]
  },
  {
   "cell_type": "code",
   "execution_count": 29,
   "id": "283b96c9-21fb-472d-ac8b-454a6af958b6",
   "metadata": {},
   "outputs": [],
   "source": [
    "data1 = [4,8,15,16,23,42]"
   ]
  },
  {
   "cell_type": "code",
   "execution_count": 30,
   "id": "ef8d89f0-5d8c-41d3-8daf-bfe998622d02",
   "metadata": {},
   "outputs": [],
   "source": [
    "srs = pd.Series(data1)"
   ]
  },
  {
   "cell_type": "code",
   "execution_count": 31,
   "id": "861e3cc4-aa29-4958-a71c-d0e6de656410",
   "metadata": {},
   "outputs": [
    {
     "name": "stdout",
     "output_type": "stream",
     "text": [
      "0     4\n",
      "1     8\n",
      "2    15\n",
      "3    16\n",
      "4    23\n",
      "5    42\n",
      "dtype: int64\n"
     ]
    }
   ],
   "source": [
    "print(srs)"
   ]
  },
  {
   "cell_type": "raw",
   "id": "450b42fd-9b52-4bd4-a5d0-63d48a73626a",
   "metadata": {},
   "source": [
    "Q2. Create a variable of list type containing 10 elements in it, and apply pandas.Series function on the\n",
    "variable print it."
   ]
  },
  {
   "cell_type": "code",
   "execution_count": 8,
   "id": "9be68905-5fb4-4993-8ad9-31e4e2be568e",
   "metadata": {},
   "outputs": [],
   "source": [
    "lst = []\n",
    "for i in range(1,10) :\n",
    "    lst.append(i)"
   ]
  },
  {
   "cell_type": "code",
   "execution_count": null,
   "id": "08dd2215-006b-418e-a0d1-73c0fd65d0e0",
   "metadata": {},
   "outputs": [
    {
     "data": {
      "text/plain": [
       "0    1\n",
       "1    2\n",
       "2    3\n",
       "3    4\n",
       "4    5\n",
       "5    6\n",
       "6    7\n",
       "7    8\n",
       "8    9\n",
       "dtype: int64"
      ]
     },
     "execution_count": 9,
     "metadata": {},
     "output_type": "execute_result"
    }
   ],
   "source": [
    "pd.Series(lst)"
   ]
  },
  {
   "cell_type": "raw",
   "id": "73066034-324e-4eb0-a3b3-99f996abf542",
   "metadata": {},
   "source": [
    "Q3. Create a Pandas DataFrame that contains the following data:\n",
    "Then, print the DataFrame."
   ]
  },
  {
   "cell_type": "code",
   "execution_count": 32,
   "id": "15541ee9-492d-4ce6-b2c0-26940124faf9",
   "metadata": {},
   "outputs": [
    {
     "data": {
      "image/png": "[encoded data removed]",
      "text/plain": [
       "<PIL.PngImagePlugin.PngImageFile image mode=RGBA size=531x175>"
      ]
     },
     "execution_count": 32,
     "metadata": {},
     "output_type": "execute_result"
    }
   ],
   "source": [
    "from PIL import Image\n",
    "\n",
    "data = Image.open('table.png')\n",
    "data"
   ]
  },
  {
   "cell_type": "code",
   "execution_count": 33,
   "id": "9a1f4e5d-c45f-4d0d-862a-fb59ea28c2ac",
   "metadata": {},
   "outputs": [
    {
     "data": {
      "text/html": [
       "<div>\n",
       "<style scoped>\n",
       "    .dataframe tbody tr th:only-of-type {\n",
       "        vertical-align: middle;\n",
       "    }\n",
       "\n",
       "    .dataframe tbody tr th {\n",
       "        vertical-align: top;\n",
       "    }\n",
       "\n",
       "    .dataframe thead th {\n",
       "        text-align: right;\n",
       "    }\n",
       "</style>\n",
       "<table border=\"1\" class=\"dataframe\">\n",
       "  <thead>\n",
       "    <tr style=\"text-align: right;\">\n",
       "      <th></th>\n",
       "      <th>Name</th>\n",
       "      <th>Age</th>\n",
       "      <th>Gender</th>\n",
       "    </tr>\n",
       "  </thead>\n",
       "  <tbody>\n",
       "    <tr>\n",
       "      <th>0</th>\n",
       "      <td>Alice</td>\n",
       "      <td>25</td>\n",
       "      <td>Female</td>\n",
       "    </tr>\n",
       "    <tr>\n",
       "      <th>1</th>\n",
       "      <td>Bob</td>\n",
       "      <td>30</td>\n",
       "      <td>Male</td>\n",
       "    </tr>\n",
       "    <tr>\n",
       "      <th>2</th>\n",
       "      <td>Claire</td>\n",
       "      <td>27</td>\n",
       "      <td>Female</td>\n",
       "    </tr>\n",
       "  </tbody>\n",
       "</table>\n",
       "</div>"
      ],
      "text/plain": [
       "     Name  Age  Gender\n",
       "0   Alice   25  Female\n",
       "1     Bob   30    Male\n",
       "2  Claire   27  Female"
      ]
     },
     "execution_count": 33,
     "metadata": {},
     "output_type": "execute_result"
    }
   ],
   "source": [
    "data_info = {\n",
    "    'Name' : ['Alice', 'Bob', 'Claire'],\n",
    "    'Age' : [25, 30, 27],\n",
    "    'Gender' : ['Female', 'Male', 'Female'],\n",
    "    \n",
    "}\n",
    "\n",
    "\n",
    "pd.DataFrame(data_info)"
   ]
  },
  {
   "cell_type": "raw",
   "id": "f27f9715-3f78-4215-9e28-1007c464a1ec",
   "metadata": {},
   "source": [
    "Q4. What is ‘DataFrame’ in pandas and how is it different from pandas.series? Explain with an example."
   ]
  },
  {
   "cell_type": "raw",
   "id": "ae4d9ee5-58f9-475e-81de-70f13f09e4cf",
   "metadata": {},
   "source": [
    "DataFrame:\n",
    "-A DataFrame is a two-dimensional data structure with rows and columns.\n",
    "-It can store data of different types in its columns.\n",
    "-A DataFrame has both a row index and a column index.\n",
    "-You can think of it as a collection of Series where each Series represents a column.\n",
    "\n",
    "Pandas Series:\n",
    "\n",
    "-A Series is a one-dimensional array-like object.\n",
    "-It stores data of a single data type.\n",
    "-A Series has a single index that labels its elements."
   ]
  },
  {
   "cell_type": "code",
   "execution_count": 35,
   "id": "f4a963b8-964c-42dd-b054-e89d5ef70085",
   "metadata": {},
   "outputs": [
    {
     "name": "stdout",
     "output_type": "stream",
     "text": [
      "Data Frame:\n",
      "     Name  Age  Gender\n",
      "0   Alice   25  Female\n",
      "1     Bob   30    Male\n",
      "2  Claire   27  Female\n",
      "Pandas Series:\n",
      "0     4\n",
      "1     8\n",
      "2    15\n",
      "3    16\n",
      "4    23\n",
      "5    42\n",
      "dtype: int64\n"
     ]
    }
   ],
   "source": [
    "data_info = {\n",
    "    'Name' : ['Alice', 'Bob', 'Claire'],\n",
    "    'Age' : [25, 30, 27],\n",
    "    'Gender' : ['Female', 'Male', 'Female'],\n",
    "    \n",
    "}\n",
    "\n",
    "Data_Frame = pd.DataFrame(data_info)\n",
    "\n",
    "Pandas_Series = pd.Series(data1)\n",
    "\n",
    "print(\"Data Frame:\")\n",
    "print(Data_Frame)\n",
    "\n",
    "print(\"Pandas Series:\")\n",
    "print(Pandas_Series)"
   ]
  },
  {
   "cell_type": "raw",
   "id": "5e80b03d-7863-42be-b7ac-5001ec83d67f",
   "metadata": {},
   "source": [
    "Q5. What are some common functions you can use to manipulate data in a Pandas DataFrame? Can\n",
    "you give an example of when you might use one of these functions?"
   ]
  },
  {
   "cell_type": "raw",
   "id": "b4626090-b771-4d45-b4f3-c3c00aa23970",
   "metadata": {},
   "source": [
    "Filtering Data:\n",
    "\n",
    "df[df['column'] > value]: Select rows where a condition is met.\n",
    "Example: Select all rows where the 'Age' column is greater than 30.\n",
    "\n",
    "Sorting Data:\n",
    "\n",
    "df.sort_values(by='column'): Sort the DataFrame by a specific column.\n",
    "Example: Sort the DataFrame by the 'Salary' column in ascending order.\n",
    "\n",
    "Grouping Data:\n",
    "\n",
    "df.groupby('column'): Group data based on a column's values.\n",
    "Example: Group data by the 'Category' column for aggregation.\n",
    "\n",
    "Aggregation:\n",
    "\n",
    "df.groupby('column').agg({'other_column': 'agg_function'}): Perform aggregate functions on grouped data.\n",
    "Example: Calculate the mean salary for each job category.\n",
    "\n",
    "Merging and Joining DataFrames:\n",
    "\n",
    "pd.concat([df1, df2], axis=0): Concatenate two DataFrames vertically (row-wise).\n",
    "pd.merge(df1, df2, on='key'): Merge two DataFrames based on a common column ('key').\n",
    "Example: Combine two DataFrames with related information.\n",
    "\n",
    "Pivoting Data:\n",
    "\n",
    "df.pivot(index='row_column', columns='column', values='value_column'): Reshape data by pivoting.\n",
    "Example: Pivot a table to create a summary view.\n",
    "\n",
    "Handling Missing Data:\n",
    "\n",
    "df.dropna(): Remove rows with missing values.\n",
    "df.fillna(value): Fill missing values with a specified value.\n",
    "Example: Clean up data with missing values before analysis.\n",
    "\n",
    "Applying Functions:\n",
    "\n",
    "df.apply(func, axis=0): Apply a function to each column or row.\n",
    "Example: Apply a custom function to normalize numeric values.\n",
    "\n",
    "Creating New Columns:\n",
    "\n",
    "df['new_column'] = ...: Create a new column based on existing data.\n",
    "Example: Calculate a 'Total' column by summing other columns.\n",
    "\n",
    "Dropping Columns or Rows:\n",
    "\n",
    "df.drop(['column'], axis=1): Drop specified columns.\n",
    "df.drop(index) or df.drop(df.index[condition]): Drop rows.\n",
    "Example: Remove unnecessary columns or rows.\n",
    "\n",
    "Reshaping Data:\n",
    "\n",
    "pd.melt(df, id_vars=['columns']): Unpivot a DataFrame.\n",
    "Example: Transform wide data into long format for analysis.\n",
    "\n",
    "String Operations:\n",
    "\n",
    "df['column'].str.replace('old_string', 'new_string'): Replace text in string columns.\n",
    "Example: Clean text data by replacing or extracting patterns.\n",
    "\n",
    "DateTime Operations:\n",
    "\n",
    "pd.to_datetime(df['column']): Convert a column to datetime format.\n",
    "df['column'].dt.year: Extract year from a datetime column.\n",
    "Example: Analyze time series data."
   ]
  },
  {
   "cell_type": "raw",
   "id": "0cf5aeb4-018e-4e9f-8c1e-628a6bc28560",
   "metadata": {},
   "source": [
    "Q6. Which of the following is mutable in nature Series, DataFrame, Panel?"
   ]
  },
  {
   "cell_type": "raw",
   "id": "421b6f99-02e0-4018-b973-4c992cc33ee3",
   "metadata": {},
   "source": [
    "Ans. DataFrame is mutable in nature"
   ]
  },
  {
   "cell_type": "raw",
   "id": "75272081-86ca-426a-bd66-3aa2c4796e75",
   "metadata": {},
   "source": [
    "Q7. Create a DataFrame using multiple Series. Explain with an example."
   ]
  },
  {
   "cell_type": "code",
   "execution_count": 38,
   "id": "e3211f2c-17da-4065-92e0-3074ebe02574",
   "metadata": {},
   "outputs": [
    {
     "name": "stdout",
     "output_type": "stream",
     "text": [
      "     Name  Age  Gender\n",
      "0   Alice   25  Female\n",
      "1     Bob   30    Male\n",
      "2  Claire   27  Female\n"
     ]
    }
   ],
   "source": [
    "Name = pd.Series(['Alice', 'Bob', 'Claire'])\n",
    "Age = pd.Series([25, 30, 27])\n",
    "Gender = pd.Series(['Female', 'Male', 'Female'])\n",
    "\n",
    "data = {\n",
    "    'Name' : Name,\n",
    "    'Age' : Age,\n",
    "    'Gender' : Gender\n",
    "}\n",
    "\n",
    "print(pd.DataFrame(data))\n"
   ]
  }
 ],
 "metadata": {
  "kernelspec": {
   "display_name": "Python 3 (ipykernel)",
   "language": "python",
   "name": "python3"
  },
  "language_info": {
   "codemirror_mode": {
    "name": "ipython",
    "version": 3
   },
   "file_extension": ".py",
   "mimetype": "text/x-python",
   "name": "python",
   "nbconvert_exporter": "python",
   "pygments_lexer": "ipython3",
   "version": "3.10.8"
  }
 },
 "nbformat": 4,
 "nbformat_minor": 5
}
